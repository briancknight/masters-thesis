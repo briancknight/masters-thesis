{
 "cells": [
  {
   "cell_type": "code",
   "execution_count": 1,
   "metadata": {
    "ExecuteTime": {
     "end_time": "2020-02-09T23:47:17.153823Z",
     "start_time": "2020-02-09T23:47:16.782146Z"
    }
   },
   "outputs": [],
   "source": [
    "import numpy as np\n",
    "from lp_solver import LPSolver\n",
    "from leastsquares import *"
   ]
  },
  {
   "cell_type": "code",
   "execution_count": 2,
   "metadata": {
    "ExecuteTime": {
     "end_time": "2020-02-09T23:47:17.271867Z",
     "start_time": "2020-02-09T23:47:17.155870Z"
    }
   },
   "outputs": [],
   "source": [
    "(m, n) = (100, 500)\n",
    "A = np.random.randn(m,n)\n",
    "A[0,:] = np.random.rand(n) + 0.1\n",
    "p = np.random.rand(n) + 0.1\n",
    "b = np.dot(A,p)\n",
    "c = np.random.rand(n)\n",
    "\n",
    "# b = np.random.randint(-100, 100, 100)\n",
    "# get feasible x:\n",
    "x0,p = leastsquares(A, b, [np.zeros(len(c))])\n",
    "# np.linalg.norm(A@x - b)"
   ]
  },
  {
   "cell_type": "code",
   "execution_count": 12,
   "metadata": {
    "ExecuteTime": {
     "end_time": "2020-02-09T23:49:15.258162Z",
     "start_time": "2020-02-09T23:49:15.142923Z"
    }
   },
   "outputs": [
    {
     "name": "stdout",
     "output_type": "stream",
     "text": [
      "optimal\n",
      "1.3123836440797886e-13\n"
     ]
    }
   ],
   "source": [
    "solver = LPSolver(mu=10, tol=1e-4)\n",
    "solver.solve(A,b,c)\n",
    "print(solver.status)\n",
    "# print(solver.x_opt)\n",
    "print(np.linalg.norm(A@solver.x_opt - b))"
   ]
  },
  {
   "cell_type": "code",
   "execution_count": 8,
   "metadata": {
    "ExecuteTime": {
     "end_time": "2020-02-09T23:48:01.916553Z",
     "start_time": "2020-02-09T23:48:01.910047Z"
    }
   },
   "outputs": [
    {
     "data": {
      "text/plain": [
       "array([[ 0.58888666,  0.0542149 , -1.63310997, ..., -0.41181778,\n",
       "        -0.58818476,  1.47640188],\n",
       "       [ 0.2710723 ,  0.09915082, -1.4629258 , ..., -1.84528499,\n",
       "         0.55226308,  2.37287761],\n",
       "       [ 1.89078661, -0.45237841, -1.00362326, ...,  0.1892812 ,\n",
       "         0.34605144, -1.26367483],\n",
       "       ...,\n",
       "       [-0.36482609, -0.8970546 ,  0.4988838 , ...,  0.26928254,\n",
       "        -0.64723828,  0.66475103],\n",
       "       [ 1.52417598,  2.02521048, -0.11256027, ...,  0.68402132,\n",
       "        -0.46060442,  0.33174083],\n",
       "       [-1.39359711, -0.60923529, -0.33580649, ...,  1.04548602,\n",
       "        -0.57347658,  0.26392994]])"
      ]
     },
     "execution_count": 8,
     "metadata": {},
     "output_type": "execute_result"
    }
   ],
   "source": [
    "np.random.randn(m,n)"
   ]
  },
  {
   "cell_type": "code",
   "execution_count": null,
   "metadata": {},
   "outputs": [],
   "source": []
  }
 ],
 "metadata": {
  "kernelspec": {
   "display_name": "Python 3",
   "language": "python",
   "name": "python3"
  },
  "language_info": {
   "codemirror_mode": {
    "name": "ipython",
    "version": 3
   },
   "file_extension": ".py",
   "mimetype": "text/x-python",
   "name": "python",
   "nbconvert_exporter": "python",
   "pygments_lexer": "ipython3",
   "version": "3.7.4"
  },
  "toc": {
   "base_numbering": 1,
   "nav_menu": {},
   "number_sections": true,
   "sideBar": true,
   "skip_h1_title": false,
   "title_cell": "Table of Contents",
   "title_sidebar": "Contents",
   "toc_cell": false,
   "toc_position": {},
   "toc_section_display": true,
   "toc_window_display": false
  }
 },
 "nbformat": 4,
 "nbformat_minor": 2
}
