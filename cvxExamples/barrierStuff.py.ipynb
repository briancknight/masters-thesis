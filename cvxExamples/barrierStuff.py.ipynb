{
 "cells": [
  {
   "cell_type": "code",
   "execution_count": 47,
   "metadata": {
    "ExecuteTime": {
     "end_time": "2020-02-07T17:22:02.654063Z",
     "start_time": "2020-02-07T17:22:02.650729Z"
    }
   },
   "outputs": [],
   "source": [
    "import numpy as np\n",
    "from scipy.optimize import lsq_linear\n",
    "np.warnings.filterwarnings('ignore')\n",
    "rcond = -1\n",
    "# from leastsquares import *\n",
    "from barrierMethod import *"
   ]
  },
  {
   "cell_type": "code",
   "execution_count": 58,
   "metadata": {
    "ExecuteTime": {
     "end_time": "2020-02-07T17:40:49.901167Z",
     "start_time": "2020-02-07T17:40:49.791574Z"
    }
   },
   "outputs": [],
   "source": [
    "A = np.random.randint(-100, 100, [100, 500])\n",
    "c = np.random.randint(-100, 100, 500)\n",
    "b = np.random.randint(-100, 100, 100)\n",
    "# get feasible x:\n",
    "x0,p = leastsquares(A, b, [np.zeros(len(c))])\n",
    "# np.linalg.norm(A@x - b)"
   ]
  },
  {
   "cell_type": "code",
   "execution_count": null,
   "metadata": {
    "ExecuteTime": {
     "end_time": "2020-02-07T17:00:50.922281Z",
     "start_time": "2020-02-07T17:00:50.913457Z"
    }
   },
   "outputs": [],
   "source": []
  },
  {
   "cell_type": "code",
   "execution_count": null,
   "metadata": {
    "ExecuteTime": {
     "end_time": "2020-02-07T16:59:52.208181Z",
     "start_time": "2020-02-07T16:59:52.204199Z"
    }
   },
   "outputs": [],
   "source": []
  },
  {
   "cell_type": "code",
   "execution_count": 59,
   "metadata": {
    "ExecuteTime": {
     "end_time": "2020-02-07T17:40:50.548419Z",
     "start_time": "2020-02-07T17:40:50.543447Z"
    }
   },
   "outputs": [],
   "source": [
    "# line search params:\n",
    "alpha = 0.01\n",
    "beta = 0.5\n",
    "eps = 1/(10^6)\n",
    "maxiters = 1000\n",
    "\n",
    "if (max(x0) <= 0) or (np.linalg.norm(A@x0 - b) > 1/(10^3)):\n",
    "    print('Failed')"
   ]
  },
  {
   "cell_type": "code",
   "execution_count": null,
   "metadata": {
    "ExecuteTime": {
     "end_time": "2020-02-07T15:45:40.834553Z",
     "start_time": "2020-02-07T15:45:40.815185Z"
    }
   },
   "outputs": [],
   "source": []
  },
  {
   "cell_type": "code",
   "execution_count": 60,
   "metadata": {
    "ExecuteTime": {
     "end_time": "2020-02-07T17:41:05.053251Z",
     "start_time": "2020-02-07T17:41:05.040699Z"
    }
   },
   "outputs": [],
   "source": [
    "m = len(b)\n",
    "n = len(x0)\n",
    "\n",
    "lambda_hist = []\n",
    "count = 0\n",
    "\n",
    "x = x0 if x0 is not None else np.random.rand(n) + 0.01\n",
    "v = np.zeros(m)\n",
    "\n",
    "for iter in range(maxiters):\n",
    "    count += 1\n",
    "    \n",
    "    r_dual = c - 1 / x + np.dot(A.T, v)\n",
    "    r_primal = A.dot(x) - b\n",
    "    r_norm = np.sqrt(np.sum(r_dual ** 2) + np.sum(r_primal ** 2))\n",
    "    h_inv =  x ** 2  # diagonal entries of inv(Hessian)\n",
    "    dv = np.linalg.solve( np.dot(A * h_inv, A.T), r_primal - np.dot(A * h_inv, r_dual) )\n",
    "    dx = -h_inv * (r_dual + np.dot(A.T, dv))\n",
    "    \n",
    "    lambdasqr = -1*g.T@dx\n",
    "    lambda_hist.append(lambdasqr/2)\n",
    "\n",
    "    if lambdasqr/2 <= eps:\n",
    "        break\n",
    "    # otherwise perform line search:\n",
    "\n",
    "    t = 1\n",
    "    while min(x+t*dx) <= 0:\n",
    "        t = beta * t\n",
    "\n",
    "    while c.T * t @ dx - sum(np.log(x + t * dx)) + sum(np.log(x)) - alpha * t * (g.T@dx) > 0:\n",
    "        t = beta * t\n",
    "\n",
    "    x = x + (t * dx)\n",
    "\n",
    "if count == maxiters:\n",
    "    print('ERROR: MAXITERS reached.\\n')\n",
    "    print(w)\n",
    "    x = 0\n",
    "    w = 0 "
   ]
  },
  {
   "cell_type": "code",
   "execution_count": 5,
   "metadata": {
    "ExecuteTime": {
     "end_time": "2020-02-07T17:11:01.905829Z",
     "start_time": "2020-02-07T17:11:01.785788Z"
    }
   },
   "outputs": [
    {
     "ename": "TypeError",
     "evalue": "'numpy.float64' object is not iterable",
     "output_type": "error",
     "traceback": [
      "\u001b[0;31m---------------------------------------------------------------------------\u001b[0m",
      "\u001b[0;31mTypeError\u001b[0m                                 Traceback (most recent call last)",
      "\u001b[0;32m<ipython-input-5-de958cb50579>\u001b[0m in \u001b[0;36m<module>\u001b[0;34m\u001b[0m\n\u001b[0;32m----> 1\u001b[0;31m \u001b[0mc\u001b[0m\u001b[0;34m.\u001b[0m\u001b[0mT\u001b[0m \u001b[0;34m*\u001b[0m \u001b[0mt\u001b[0m \u001b[0;34m*\u001b[0m \u001b[0mdx\u001b[0m \u001b[0;34m-\u001b[0m \u001b[0msum\u001b[0m\u001b[0;34m(\u001b[0m\u001b[0mnp\u001b[0m\u001b[0;34m.\u001b[0m\u001b[0mlog\u001b[0m\u001b[0;34m(\u001b[0m\u001b[0mx\u001b[0m \u001b[0;34m+\u001b[0m \u001b[0mt\u001b[0m \u001b[0;34m*\u001b[0m \u001b[0mdx\u001b[0m\u001b[0;34m)\u001b[0m\u001b[0;34m)\u001b[0m \u001b[0;34m+\u001b[0m \u001b[0msum\u001b[0m\u001b[0;34m(\u001b[0m\u001b[0mnp\u001b[0m\u001b[0;34m.\u001b[0m\u001b[0mlog\u001b[0m\u001b[0;34m(\u001b[0m\u001b[0mx\u001b[0m\u001b[0;34m)\u001b[0m\u001b[0;34m)\u001b[0m \u001b[0;34m-\u001b[0m \u001b[0malpha\u001b[0m \u001b[0;34m*\u001b[0m \u001b[0mt\u001b[0m \u001b[0;34m*\u001b[0m \u001b[0;34m(\u001b[0m\u001b[0mg\u001b[0m\u001b[0;34m.\u001b[0m\u001b[0mT\u001b[0m\u001b[0;34m@\u001b[0m\u001b[0mdx\u001b[0m\u001b[0;34m)\u001b[0m\u001b[0;34m\u001b[0m\u001b[0;34m\u001b[0m\u001b[0m\n\u001b[0m",
      "\u001b[0;31mTypeError\u001b[0m: 'numpy.float64' object is not iterable"
     ]
    }
   ],
   "source": [
    "c.T * t * dx - sum(np.log(x + t * dx)) + sum(np.log(x)) - alpha * t * (g.T@dx)"
   ]
  },
  {
   "cell_type": "code",
   "execution_count": 61,
   "metadata": {
    "ExecuteTime": {
     "end_time": "2020-02-07T17:41:18.978886Z",
     "start_time": "2020-02-07T17:41:18.974550Z"
    }
   },
   "outputs": [
    {
     "name": "stdout",
     "output_type": "stream",
     "text": [
      "[ -8.17632865   3.35096311 -18.30730545  -3.65309     -7.9929922\n",
      "   1.55553404  -5.48514976   8.50717392  -1.67427024  12.30294172\n",
      "   8.69332976  -4.33815522  -4.31200781   6.73656794  12.92332871\n",
      " -11.77949908 -10.48886063  -6.65849962 -10.943745    16.25972543\n",
      "   4.18847957   4.23637809  -6.41545107  -0.17984968  -8.08442584\n",
      "  20.85783575   0.97166002   1.31517644  -8.13453787 -23.40425676\n",
      "  -8.67034724   2.74886392  10.64492202   3.35531562  -2.26723628\n",
      "  15.52629938   7.61613784  -7.65183468   7.28153713 -11.35805219\n",
      "  -7.25872025  -7.75067039  18.28565492   3.65739204   1.16798146\n",
      "   0.48498891  30.8259973   -8.4859662   21.27134593   7.25153592\n",
      "   9.49053546  -9.21168546 -10.63679758   7.75381286  -0.91139743\n",
      "   1.2026757   -2.52354451   5.72586758  -9.72241804  -7.11248808\n",
      "   3.51994599  -4.60380316   4.94554775   5.1743814   -1.75625472\n",
      "  -6.98491898  -7.74753702   2.33383346  -5.41144554  -4.60934655\n",
      "   0.36638756   3.46333364   6.03963993  -0.66619498   0.99070515\n",
      "   4.19530053  -3.8323586    6.02461644   1.81531762  12.20392489\n",
      " -18.2091293    1.18263087   5.74854934  -8.76215784  -7.60118462\n",
      "  13.50212638  13.19852537  -0.27964575   9.06630348  12.61783794\n",
      "   8.65911683 -11.73768027  -5.58303492   7.31687116 -11.38368204\n",
      "   2.59897186  10.40085308  -6.51549296 -20.40707468 -21.7595072 ]\n"
     ]
    }
   ],
   "source": [
    "print(w)"
   ]
  },
  {
   "cell_type": "code",
   "execution_count": null,
   "metadata": {
    "ExecuteTime": {
     "end_time": "2020-02-07T17:11:01.910127Z",
     "start_time": "2020-02-07T17:11:00.965Z"
    }
   },
   "outputs": [],
   "source": [
    "(x, v, lambda_hist) = NewtonStep(A, b, c, x)"
   ]
  },
  {
   "cell_type": "code",
   "execution_count": null,
   "metadata": {
    "ExecuteTime": {
     "end_time": "2020-02-07T17:11:01.911150Z",
     "start_time": "2020-02-07T17:11:00.966Z"
    }
   },
   "outputs": [],
   "source": [
    "print(np.diag(1/x).shape)\n",
    "print(A.shape)\n",
    "(A@(np.diag(1/x))@A.T).shape\n",
    "w = np.linalg.lstsq(A@(np.diag(x**2))@A.T, -A@np.diag(x**2)@g)[0]\n",
    "w.shape\n"
   ]
  },
  {
   "cell_type": "code",
   "execution_count": null,
   "metadata": {
    "ExecuteTime": {
     "end_time": "2020-02-07T17:11:01.912221Z",
     "start_time": "2020-02-07T17:11:00.968Z"
    }
   },
   "outputs": [],
   "source": [
    "w = np.linalg.lstsq(A@(np.diag(x**2))@A.T, -A@np.diag(x**2)@g)[0]"
   ]
  },
  {
   "cell_type": "code",
   "execution_count": null,
   "metadata": {
    "ExecuteTime": {
     "end_time": "2020-02-07T17:11:01.913155Z",
     "start_time": "2020-02-07T17:11:00.971Z"
    }
   },
   "outputs": [],
   "source": [
    "w"
   ]
  },
  {
   "cell_type": "code",
   "execution_count": null,
   "metadata": {
    "ExecuteTime": {
     "end_time": "2020-02-07T17:11:01.914158Z",
     "start_time": "2020-02-07T17:11:00.973Z"
    }
   },
   "outputs": [],
   "source": [
    "-1 * np.diag(x**2)@(A.T@w + g)"
   ]
  },
  {
   "cell_type": "code",
   "execution_count": null,
   "metadata": {
    "ExecuteTime": {
     "end_time": "2020-02-07T17:11:01.915433Z",
     "start_time": "2020-02-07T17:11:00.976Z"
    }
   },
   "outputs": [],
   "source": [
    "(A.T@w + g)"
   ]
  },
  {
   "cell_type": "code",
   "execution_count": null,
   "metadata": {
    "ExecuteTime": {
     "end_time": "2020-02-07T17:11:01.916363Z",
     "start_time": "2020-02-07T17:11:00.978Z"
    }
   },
   "outputs": [],
   "source": [
    "w.shape"
   ]
  },
  {
   "cell_type": "code",
   "execution_count": null,
   "metadata": {},
   "outputs": [],
   "source": []
  }
 ],
 "metadata": {
  "kernelspec": {
   "display_name": "Python 3",
   "language": "python",
   "name": "python3"
  },
  "language_info": {
   "codemirror_mode": {
    "name": "ipython",
    "version": 3
   },
   "file_extension": ".py",
   "mimetype": "text/x-python",
   "name": "python",
   "nbconvert_exporter": "python",
   "pygments_lexer": "ipython3",
   "version": "3.7.4"
  },
  "toc": {
   "base_numbering": 1,
   "nav_menu": {},
   "number_sections": true,
   "sideBar": true,
   "skip_h1_title": false,
   "title_cell": "Table of Contents",
   "title_sidebar": "Contents",
   "toc_cell": false,
   "toc_position": {},
   "toc_section_display": true,
   "toc_window_display": false
  }
 },
 "nbformat": 4,
 "nbformat_minor": 2
}
