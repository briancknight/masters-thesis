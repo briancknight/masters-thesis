{
 "cells": [
  {
   "cell_type": "code",
   "execution_count": 1,
   "metadata": {
    "ExecuteTime": {
     "end_time": "2020-02-20T05:40:50.691317Z",
     "start_time": "2020-02-20T05:40:50.494503Z"
    }
   },
   "outputs": [],
   "source": [
    "import numpy as np\n",
    "import cvxpy as cvx\n",
    "from scipy import sparse"
   ]
  },
  {
   "cell_type": "code",
   "execution_count": 2,
   "metadata": {
    "ExecuteTime": {
     "end_time": "2020-02-20T05:40:51.044669Z",
     "start_time": "2020-02-20T05:40:50.693546Z"
    }
   },
   "outputs": [],
   "source": [
    "from imTools import *"
   ]
  },
  {
   "cell_type": "code",
   "execution_count": 3,
   "metadata": {
    "ExecuteTime": {
     "end_time": "2020-02-20T05:40:51.064113Z",
     "start_time": "2020-02-20T05:40:51.046847Z"
    }
   },
   "outputs": [],
   "source": [
    "# target = readImage('images/BrainProtonDensitySliceShifted13x17y.png', (100,100))\n",
    "# base = readImage('images/BrainT1Slice.png', (100,100))\n",
    "target = readImage('images/BrainProtonDensitySliceShifted13x17y.png', (50,50))\n",
    "base = readImage('images/BrainT1Slice.png', (50,50))"
   ]
  },
  {
   "cell_type": "code",
   "execution_count": 4,
   "metadata": {
    "ExecuteTime": {
     "end_time": "2020-02-20T05:40:51.204526Z",
     "start_time": "2020-02-20T05:40:51.065870Z"
    }
   },
   "outputs": [
    {
     "data": {
      "image/png": "[encoded data removed]",
      "text/plain": [
       "<Figure size 432x288 with 1 Axes>"
      ]
     },
     "metadata": {
      "needs_background": "light"
     },
     "output_type": "display_data"
    }
   ],
   "source": [
    "plt.imshow(target)\n",
    "plt.show()"
   ]
  },
  {
   "cell_type": "code",
   "execution_count": 5,
   "metadata": {
    "ExecuteTime": {
     "end_time": "2020-02-20T05:40:51.215721Z",
     "start_time": "2020-02-20T05:40:51.206485Z"
    }
   },
   "outputs": [],
   "source": [
    "from Taylor08 import *"
   ]
  },
  {
   "cell_type": "code",
   "execution_count": 6,
   "metadata": {
    "ExecuteTime": {
     "end_time": "2020-02-20T05:40:51.222336Z",
     "start_time": "2020-02-20T05:40:51.217659Z"
    }
   },
   "outputs": [],
   "source": [
    "px = np.random.random(19)*0.5\n",
    "py = np.random.random(19)*0.5\n",
    "p = np.concatenate((px,py), axis=0)"
   ]
  },
  {
   "cell_type": "code",
   "execution_count": 7,
   "metadata": {
    "ExecuteTime": {
     "end_time": "2020-02-20T05:40:51.737388Z",
     "start_time": "2020-02-20T05:40:51.227191Z"
    }
   },
   "outputs": [],
   "source": [
    "D = gaussianDeformImage(target, 10, 4, px, py)"
   ]
  },
  {
   "cell_type": "code",
   "execution_count": 8,
   "metadata": {
    "ExecuteTime": {
     "end_time": "2020-02-20T05:40:51.880402Z",
     "start_time": "2020-02-20T05:40:51.739687Z"
    }
   },
   "outputs": [
    {
     "data": {
      "image/png": "[encoded data removed]",
      "text/plain": [
       "<Figure size 432x288 with 1 Axes>"
      ]
     },
     "metadata": {
      "needs_background": "light"
     },
     "output_type": "display_data"
    }
   ],
   "source": [
    "plt.imshow(D)\n",
    "plt.show()"
   ]
  },
  {
   "cell_type": "code",
   "execution_count": 9,
   "metadata": {
    "ExecuteTime": {
     "end_time": "2020-02-20T05:41:06.549473Z",
     "start_time": "2020-02-20T05:40:51.882608Z"
    }
   },
   "outputs": [],
   "source": [
    "(dIm, Ax, Ay, Iz, b, Dx, Dy, C) = Taylor08(target, base, 10, px, py)"
   ]
  },
  {
   "cell_type": "code",
   "execution_count": 10,
   "metadata": {
    "ExecuteTime": {
     "end_time": "2020-02-20T05:41:06.678924Z",
     "start_time": "2020-02-20T05:41:06.551170Z"
    }
   },
   "outputs": [
    {
     "data": {
      "image/png": "[encoded data removed]",
      "text/plain": [
       "<Figure size 432x288 with 1 Axes>"
      ]
     },
     "metadata": {
      "needs_background": "light"
     },
     "output_type": "display_data"
    }
   ],
   "source": [
    "plt.imshow(dIm)\n",
    "plt.show()"
   ]
  },
  {
   "cell_type": "code",
   "execution_count": 11,
   "metadata": {
    "ExecuteTime": {
     "end_time": "2020-02-20T05:41:06.684481Z",
     "start_time": "2020-02-20T05:41:06.680807Z"
    }
   },
   "outputs": [
    {
     "data": {
      "text/plain": [
       "(58092, 2500)"
      ]
     },
     "execution_count": 11,
     "metadata": {},
     "output_type": "execute_result"
    }
   ],
   "source": [
    "Ax.shape"
   ]
  },
  {
   "cell_type": "code",
   "execution_count": 12,
   "metadata": {
    "ExecuteTime": {
     "end_time": "2020-02-20T05:41:06.702683Z",
     "start_time": "2020-02-20T05:41:06.686507Z"
    }
   },
   "outputs": [],
   "source": [
    "z = np.ones(Ax.shape[1])\n",
    "A = (Ax @ C @ px) + (Ay @ C @ py) - Iz@z"
   ]
  },
  {
   "cell_type": "code",
   "execution_count": 13,
   "metadata": {
    "ExecuteTime": {
     "end_time": "2020-02-20T05:41:06.747881Z",
     "start_time": "2020-02-20T05:41:06.704935Z"
    }
   },
   "outputs": [],
   "source": [
    "s = b - A\n",
    "d = sparse.diags(s**(-1))\n",
    "d2 = d**2"
   ]
  },
  {
   "cell_type": "code",
   "execution_count": 14,
   "metadata": {
    "ExecuteTime": {
     "end_time": "2020-02-20T05:41:06.763101Z",
     "start_time": "2020-02-20T05:41:06.749517Z"
    }
   },
   "outputs": [],
   "source": [
    "D1 = Ax.T @ d2 @ Ax\n",
    "D2 = Ay.T @ d2 @ Ax\n",
    "D3 = Ay.T @ d2 @ Ay\n",
    "D4 = Iz.T @ d2 @ Ax\n",
    "D5 = Iz.T @ d2 @ Ay\n",
    "D6 = Iz.T @ d2 @ Iz\n",
    "# With no lower / upper bounds on Dx, Dy"
   ]
  },
  {
   "cell_type": "code",
   "execution_count": null,
   "metadata": {
    "ExecuteTime": {
     "end_time": "2020-02-19T23:50:57.198409Z",
     "start_time": "2020-02-19T23:50:57.194037Z"
    }
   },
   "outputs": [],
   "source": []
  },
  {
   "cell_type": "code",
   "execution_count": 15,
   "metadata": {
    "ExecuteTime": {
     "end_time": "2020-02-20T05:41:06.770628Z",
     "start_time": "2020-02-20T05:41:06.764637Z"
    }
   },
   "outputs": [],
   "source": [
    "# Constructs Hp\n",
    "Hpx = C.T@D1@C\n",
    "Hpxpy = C.T @ D2 @ C\n",
    "Hpy = C.T@D3@C\n",
    "\n",
    "Hp1 = np.concatenate((Hpx, Hpxpy), axis = 1)\n",
    "Hp2 = np.concatenate((Hpxpy, Hpy), axis = 1)\n",
    "Hp = np.concatenate((Hp1, Hp2), axis = 0)"
   ]
  },
  {
   "cell_type": "code",
   "execution_count": 16,
   "metadata": {
    "ExecuteTime": {
     "end_time": "2020-02-20T05:41:06.776651Z",
     "start_time": "2020-02-20T05:41:06.772685Z"
    }
   },
   "outputs": [],
   "source": [
    "# Construct Hz\n",
    "Hz1 = D4 @ C\n",
    "Hz2 = D5 @ C\n",
    "\n",
    "Hz = np.concatenate((Hz1, Hz2), axis = 1)"
   ]
  },
  {
   "cell_type": "code",
   "execution_count": 17,
   "metadata": {
    "ExecuteTime": {
     "end_time": "2020-02-20T05:41:06.791424Z",
     "start_time": "2020-02-20T05:41:06.778478Z"
    }
   },
   "outputs": [],
   "source": [
    "gz = -1 * Iz.T@s**(-1)\n",
    "gpx = -1 * C.T@Ax.T@s**(-1)\n",
    "gpy = -1 * C.T@Ay.T@s**(-1)\n",
    "gp = np.concatenate((gpx, gpy), axis = 0)"
   ]
  },
  {
   "cell_type": "code",
   "execution_count": 18,
   "metadata": {
    "ExecuteTime": {
     "end_time": "2020-02-20T05:41:06.797115Z",
     "start_time": "2020-02-20T05:41:06.793174Z"
    }
   },
   "outputs": [
    {
     "data": {
      "text/plain": [
       "(38, 38)"
      ]
     },
     "execution_count": 18,
     "metadata": {},
     "output_type": "execute_result"
    }
   ],
   "source": [
    "Hp.shape"
   ]
  },
  {
   "cell_type": "code",
   "execution_count": 35,
   "metadata": {
    "ExecuteTime": {
     "end_time": "2020-02-20T05:56:46.148706Z",
     "start_time": "2020-02-20T05:56:46.132901Z"
    }
   },
   "outputs": [],
   "source": [
    "def TaylorNewtonStep(Ax, Ay, Iz, b, s, d, d2, p, z):    \n",
    "    \"\"\" \n",
    "    *CURRENTLY BROKEN**\n",
    "\n",
    "    With each iteration we are seeking to minimize \n",
    "    t 1.T@z - sum[ log(b - AxCpx - (Ay @ C @ py)  + (Iz @ z)) ]\n",
    "\n",
    "    \"\"\"\n",
    "    # Line Search Parameters:\n",
    "    alpha = 0.01\n",
    "    beta = 0.8\n",
    "    eps = 10\n",
    "    maxiters = 100\n",
    "    count = 0\n",
    "    \n",
    "    # Convex Approximation & Deformation Parameters\n",
    "    window = 10\n",
    "    k = 4 # 16 kernels\n",
    "    sigma = 10\n",
    "    \n",
    "    \n",
    "    for iter in range(maxiters):\n",
    "        count += 1\n",
    "        (Ax, Ay, Iz, b, Dx, Dy, C) = getConstraintCoeffs(target, base, window, k, sigma, p[:19], p[19:])\n",
    "        L = Ax.shape[1]\n",
    "        A = (Ax @ C @ px) + (Ay @ C @ py) - Iz@z\n",
    "\n",
    "        s = b - A\n",
    "        print(s)\n",
    "        d = sparse.diags(s**(-1))\n",
    "        d2 = d**2\n",
    "        (Hp, Hz, D6) = getHessians(Ax, Ay, Iz, C, d2)\n",
    "        \n",
    "        gpx = -1 * C.T@Ax.T@s**(-1)\n",
    "        gpy = -1 * C.T@Ay.T@s**(-1)\n",
    "        gp = np.concatenate((gpx, gpy), axis = 0)\n",
    "        gz = -1 * Iz.T@s**(-1)\n",
    "        g = np.concatenate((gp, gz), axis = 0)\n",
    "#         print(g)\n",
    "        Dinv = sparse.linalg.inv(D6)\n",
    "        \n",
    "        dp = np.linalg.solve(Hp - Hz.T @ Dinv @ Hz, gp - Hz.T @ Dinv @ gz)\n",
    "#         print(dp)\n",
    "        dz = sparse.linalg.inv(D6)@(gz - Hz @ dp)\n",
    "        delta = np.concatenate((dp, dz), axis = 0)\n",
    "        \n",
    "        lambdasqr = g.T @ delta #-1*g.T @ delta\n",
    "#         print(lambdasqr)\n",
    "        \n",
    "        if lambdasqr/2 < eps:\n",
    "            break\n",
    "            \n",
    "        # otherwise perform line search:\n",
    "        t = 1\n",
    "\n",
    "        while  (t * np.ones(len(dz)).T @ dz - np.sum( np.log( b - (Ax@C@(p + t * dp)[:19]) - (Ay @ C @ (p + t * dp)[19:]) + Iz@(z + dz))) - alpha * t * (gz.T @ dz) > 0):\n",
    "            t = beta * t\n",
    "            \n",
    "        p += t * dp\n",
    "        z += t * dz\n",
    "        print(p)\n",
    "    if count == maxiters:\n",
    "        print('ERROR: MAXITERS reached.\\n')\n",
    "        p = 0\n",
    "    \n",
    "    return p\n",
    "    "
   ]
  },
  {
   "cell_type": "code",
   "execution_count": 36,
   "metadata": {
    "ExecuteTime": {
     "end_time": "2020-02-20T05:57:02.500336Z",
     "start_time": "2020-02-20T05:56:48.454325Z"
    }
   },
   "outputs": [
    {
     "name": "stdout",
     "output_type": "stream",
     "text": [
      "[30.52892874 32.21288581 31.34634402 ... 50.         50.\n",
      " 50.        ]\n"
     ]
    },
    {
     "name": "stderr",
     "output_type": "stream",
     "text": [
      "/usr/local/Cellar/ipython/7.4.0/libexec/vendor/lib/python3.7/site-packages/ipykernel_launcher.py:56: RuntimeWarning: divide by zero encountered in log\n",
      "/usr/local/Cellar/ipython/7.4.0/libexec/vendor/lib/python3.7/site-packages/ipykernel_launcher.py:56: RuntimeWarning: invalid value encountered in log\n"
     ]
    },
    {
     "name": "stdout",
     "output_type": "stream",
     "text": [
      "[-26.89663306 -26.89663305 -26.89663305 ...   0.           0.\n",
      "   0.        ]\n"
     ]
    },
    {
     "name": "stderr",
     "output_type": "stream",
     "text": [
      "/usr/local/Cellar/ipython/7.4.0/libexec/vendor/lib/python3.7/site-packages/ipykernel_launcher.py:30: RuntimeWarning: divide by zero encountered in reciprocal\n",
      "/usr/local/Cellar/ipython/7.4.0/libexec/vendor/lib/python3.7/site-packages/ipykernel_launcher.py:34: RuntimeWarning: divide by zero encountered in reciprocal\n",
      "/usr/local/Cellar/ipython/7.4.0/libexec/vendor/lib/python3.7/site-packages/ipykernel_launcher.py:34: RuntimeWarning: invalid value encountered in matmul\n",
      "/usr/local/Cellar/ipython/7.4.0/libexec/vendor/lib/python3.7/site-packages/ipykernel_launcher.py:35: RuntimeWarning: divide by zero encountered in reciprocal\n",
      "/usr/local/Cellar/ipython/7.4.0/libexec/vendor/lib/python3.7/site-packages/ipykernel_launcher.py:35: RuntimeWarning: invalid value encountered in matmul\n",
      "/usr/local/Cellar/ipython/7.4.0/libexec/vendor/lib/python3.7/site-packages/ipykernel_launcher.py:37: RuntimeWarning: divide by zero encountered in reciprocal\n",
      "/usr/local/Cellar/ipython/7.4.0/libexec/vendor/lib/python3.7/site-packages/ipykernel_launcher.py:42: RuntimeWarning: invalid value encountered in matmul\n",
      "/usr/local/Cellar/ipython/7.4.0/libexec/vendor/lib/python3.7/site-packages/ipykernel_launcher.py:47: RuntimeWarning: invalid value encountered in matmul\n",
      "/usr/local/Cellar/ipython/7.4.0/libexec/vendor/lib/python3.7/site-packages/ipykernel_launcher.py:56: RuntimeWarning: invalid value encountered in matmul\n"
     ]
    },
    {
     "ename": "ValueError",
     "evalue": "cannot convert float NaN to integer",
     "output_type": "error",
     "traceback": [
      "\u001b[0;31m---------------------------------------------------------------------------\u001b[0m",
      "\u001b[0;31mValueError\u001b[0m                                Traceback (most recent call last)",
      "\u001b[0;32m<ipython-input-36-843980989c10>\u001b[0m in \u001b[0;36m<module>\u001b[0;34m\u001b[0m\n\u001b[1;32m      1\u001b[0m \u001b[0mp1\u001b[0m \u001b[0;34m=\u001b[0m \u001b[0mnp\u001b[0m\u001b[0;34m.\u001b[0m\u001b[0mrandom\u001b[0m\u001b[0;34m.\u001b[0m\u001b[0mrand\u001b[0m\u001b[0;34m(\u001b[0m\u001b[0;36m38\u001b[0m\u001b[0;34m)\u001b[0m\u001b[0;34m\u001b[0m\u001b[0;34m\u001b[0m\u001b[0m\n\u001b[1;32m      2\u001b[0m \u001b[0mz\u001b[0m \u001b[0;34m=\u001b[0m \u001b[0mz\u001b[0m \u001b[0;34m=\u001b[0m \u001b[0;36m50\u001b[0m\u001b[0;34m*\u001b[0m\u001b[0mnp\u001b[0m\u001b[0;34m.\u001b[0m\u001b[0mones\u001b[0m\u001b[0;34m(\u001b[0m\u001b[0mAx\u001b[0m\u001b[0;34m.\u001b[0m\u001b[0mshape\u001b[0m\u001b[0;34m[\u001b[0m\u001b[0;36m1\u001b[0m\u001b[0;34m]\u001b[0m\u001b[0;34m)\u001b[0m\u001b[0;34m\u001b[0m\u001b[0;34m\u001b[0m\u001b[0m\n\u001b[0;32m----> 3\u001b[0;31m \u001b[0mp\u001b[0m \u001b[0;34m=\u001b[0m \u001b[0mTaylorNewtonStep\u001b[0m\u001b[0;34m(\u001b[0m\u001b[0mAx\u001b[0m\u001b[0;34m,\u001b[0m \u001b[0mAy\u001b[0m\u001b[0;34m,\u001b[0m \u001b[0mIz\u001b[0m\u001b[0;34m,\u001b[0m \u001b[0mb\u001b[0m\u001b[0;34m,\u001b[0m \u001b[0ms\u001b[0m\u001b[0;34m,\u001b[0m \u001b[0md\u001b[0m\u001b[0;34m,\u001b[0m \u001b[0md2\u001b[0m\u001b[0;34m,\u001b[0m \u001b[0mp1\u001b[0m\u001b[0;34m,\u001b[0m \u001b[0mz\u001b[0m\u001b[0;34m)\u001b[0m\u001b[0;34m\u001b[0m\u001b[0;34m\u001b[0m\u001b[0m\n\u001b[0m",
      "\u001b[0;32m<ipython-input-35-e3b51b100414>\u001b[0m in \u001b[0;36mTaylorNewtonStep\u001b[0;34m(Ax, Ay, Iz, b, s, d, d2, p, z)\u001b[0m\n\u001b[1;32m     22\u001b[0m     \u001b[0;32mfor\u001b[0m \u001b[0miter\u001b[0m \u001b[0;32min\u001b[0m \u001b[0mrange\u001b[0m\u001b[0;34m(\u001b[0m\u001b[0mmaxiters\u001b[0m\u001b[0;34m)\u001b[0m\u001b[0;34m:\u001b[0m\u001b[0;34m\u001b[0m\u001b[0;34m\u001b[0m\u001b[0m\n\u001b[1;32m     23\u001b[0m         \u001b[0mcount\u001b[0m \u001b[0;34m+=\u001b[0m \u001b[0;36m1\u001b[0m\u001b[0;34m\u001b[0m\u001b[0;34m\u001b[0m\u001b[0m\n\u001b[0;32m---> 24\u001b[0;31m         \u001b[0;34m(\u001b[0m\u001b[0mAx\u001b[0m\u001b[0;34m,\u001b[0m \u001b[0mAy\u001b[0m\u001b[0;34m,\u001b[0m \u001b[0mIz\u001b[0m\u001b[0;34m,\u001b[0m \u001b[0mb\u001b[0m\u001b[0;34m,\u001b[0m \u001b[0mDx\u001b[0m\u001b[0;34m,\u001b[0m \u001b[0mDy\u001b[0m\u001b[0;34m,\u001b[0m \u001b[0mC\u001b[0m\u001b[0;34m)\u001b[0m \u001b[0;34m=\u001b[0m \u001b[0mgetConstraintCoeffs\u001b[0m\u001b[0;34m(\u001b[0m\u001b[0mtarget\u001b[0m\u001b[0;34m,\u001b[0m \u001b[0mbase\u001b[0m\u001b[0;34m,\u001b[0m \u001b[0mwindow\u001b[0m\u001b[0;34m,\u001b[0m \u001b[0mk\u001b[0m\u001b[0;34m,\u001b[0m \u001b[0msigma\u001b[0m\u001b[0;34m,\u001b[0m \u001b[0mp\u001b[0m\u001b[0;34m[\u001b[0m\u001b[0;34m:\u001b[0m\u001b[0;36m19\u001b[0m\u001b[0;34m]\u001b[0m\u001b[0;34m,\u001b[0m \u001b[0mp\u001b[0m\u001b[0;34m[\u001b[0m\u001b[0;36m19\u001b[0m\u001b[0;34m:\u001b[0m\u001b[0;34m]\u001b[0m\u001b[0;34m)\u001b[0m\u001b[0;34m\u001b[0m\u001b[0;34m\u001b[0m\u001b[0m\n\u001b[0m\u001b[1;32m     25\u001b[0m         \u001b[0mL\u001b[0m \u001b[0;34m=\u001b[0m \u001b[0mAx\u001b[0m\u001b[0;34m.\u001b[0m\u001b[0mshape\u001b[0m\u001b[0;34m[\u001b[0m\u001b[0;36m1\u001b[0m\u001b[0;34m]\u001b[0m\u001b[0;34m\u001b[0m\u001b[0;34m\u001b[0m\u001b[0m\n\u001b[1;32m     26\u001b[0m         \u001b[0mA\u001b[0m \u001b[0;34m=\u001b[0m \u001b[0;34m(\u001b[0m\u001b[0mAx\u001b[0m \u001b[0;34m@\u001b[0m \u001b[0mC\u001b[0m \u001b[0;34m@\u001b[0m \u001b[0mpx\u001b[0m\u001b[0;34m)\u001b[0m \u001b[0;34m+\u001b[0m \u001b[0;34m(\u001b[0m\u001b[0mAy\u001b[0m \u001b[0;34m@\u001b[0m \u001b[0mC\u001b[0m \u001b[0;34m@\u001b[0m \u001b[0mpy\u001b[0m\u001b[0;34m)\u001b[0m \u001b[0;34m-\u001b[0m \u001b[0mIz\u001b[0m\u001b[0;34m@\u001b[0m\u001b[0mz\u001b[0m\u001b[0;34m\u001b[0m\u001b[0;34m\u001b[0m\u001b[0m\n",
      "\u001b[0;32m~/Documents/GitHub/masters-thesis/ConvexRegistration/Taylor08.py\u001b[0m in \u001b[0;36mgetConstraintCoeffs\u001b[0;34m(target, base, window, k, sigma, px, py)\u001b[0m\n\u001b[1;32m     56\u001b[0m                         \u001b[0mc\u001b[0m \u001b[0;34m=\u001b[0m \u001b[0mgaussianD\u001b[0m\u001b[0;34m(\u001b[0m\u001b[0;34m(\u001b[0m\u001b[0mx\u001b[0m\u001b[0;34m,\u001b[0m\u001b[0my\u001b[0m\u001b[0;34m)\u001b[0m\u001b[0;34m,\u001b[0m \u001b[0mkernels\u001b[0m\u001b[0;34m,\u001b[0m \u001b[0msigma\u001b[0m\u001b[0;34m)\u001b[0m\u001b[0;34m\u001b[0m\u001b[0;34m\u001b[0m\u001b[0m\n\u001b[1;32m     57\u001b[0m                         \u001b[0;31m# Calculate deformation at x, y\u001b[0m\u001b[0;34m\u001b[0m\u001b[0;34m\u001b[0m\u001b[0;34m\u001b[0m\u001b[0m\n\u001b[0;32m---> 58\u001b[0;31m                         \u001b[0mdx\u001b[0m \u001b[0;34m=\u001b[0m \u001b[0mint\u001b[0m\u001b[0;34m(\u001b[0m\u001b[0mround\u001b[0m\u001b[0;34m(\u001b[0m\u001b[0mnp\u001b[0m\u001b[0;34m.\u001b[0m\u001b[0mdot\u001b[0m\u001b[0;34m(\u001b[0m\u001b[0mc\u001b[0m\u001b[0;34m,\u001b[0m \u001b[0mpx\u001b[0m\u001b[0;34m)\u001b[0m\u001b[0;34m)\u001b[0m\u001b[0;34m)\u001b[0m\u001b[0;34m\u001b[0m\u001b[0;34m\u001b[0m\u001b[0m\n\u001b[0m\u001b[1;32m     59\u001b[0m                         \u001b[0mdy\u001b[0m \u001b[0;34m=\u001b[0m \u001b[0mint\u001b[0m\u001b[0;34m(\u001b[0m\u001b[0mround\u001b[0m\u001b[0;34m(\u001b[0m\u001b[0mnp\u001b[0m\u001b[0;34m.\u001b[0m\u001b[0mdot\u001b[0m\u001b[0;34m(\u001b[0m\u001b[0mc\u001b[0m\u001b[0;34m,\u001b[0m \u001b[0mpy\u001b[0m\u001b[0;34m)\u001b[0m\u001b[0;34m)\u001b[0m\u001b[0;34m)\u001b[0m\u001b[0;34m\u001b[0m\u001b[0;34m\u001b[0m\u001b[0m\n\u001b[1;32m     60\u001b[0m \u001b[0;34m\u001b[0m\u001b[0m\n",
      "\u001b[0;31mValueError\u001b[0m: cannot convert float NaN to integer"
     ]
    }
   ],
   "source": [
    "p1 = np.random.rand(38)\n",
    "z = z = 50*np.ones(Ax.shape[1])\n",
    "p = TaylorNewtonStep(Ax, Ay, Iz, b, s, d, d2, p1, z)"
   ]
  },
  {
   "cell_type": "code",
   "execution_count": null,
   "metadata": {
    "ExecuteTime": {
     "end_time": "2020-02-20T05:41:20.893520Z",
     "start_time": "2020-02-20T05:40:50.525Z"
    }
   },
   "outputs": [],
   "source": [
    "z = 50*np.ones(Ax.shape[1])\n",
    "b - (Ax@C@(p + t * dp)[:19]) - (Ay @ C @ (p + t * dp)[19:]) + Iz@(z + dz)"
   ]
  },
  {
   "cell_type": "code",
   "execution_count": null,
   "metadata": {
    "ExecuteTime": {
     "end_time": "2020-02-20T05:41:20.895088Z",
     "start_time": "2020-02-20T05:40:50.528Z"
    }
   },
   "outputs": [],
   "source": [
    "t * np.ones(len(dz)).T @ dz - np.sum( np.log( b - (Ax@C@(p + t * dp)[:19]) - (Ay @ C @ (p + t * dp)[19:]) + Iz@(z + dz))) - alpha * t * (gz.T @ dz)"
   ]
  },
  {
   "cell_type": "code",
   "execution_count": null,
   "metadata": {
    "ExecuteTime": {
     "end_time": "2020-02-20T02:07:31.789088Z",
     "start_time": "2020-02-20T02:07:31.785606Z"
    }
   },
   "outputs": [],
   "source": []
  },
  {
   "cell_type": "code",
   "execution_count": null,
   "metadata": {},
   "outputs": [],
   "source": []
  }
 ],
 "metadata": {
  "kernelspec": {
   "display_name": "Python 3",
   "language": "python",
   "name": "python3"
  },
  "language_info": {
   "codemirror_mode": {
    "name": "ipython",
    "version": 3
   },
   "file_extension": ".py",
   "mimetype": "text/x-python",
   "name": "python",
   "nbconvert_exporter": "python",
   "pygments_lexer": "ipython3",
   "version": "3.7.4"
  },
  "toc": {
   "base_numbering": 1,
   "nav_menu": {},
   "number_sections": true,
   "sideBar": true,
   "skip_h1_title": false,
   "title_cell": "Table of Contents",
   "title_sidebar": "Contents",
   "toc_cell": false,
   "toc_position": {},
   "toc_section_display": true,
   "toc_window_display": false
  }
 },
 "nbformat": 4,
 "nbformat_minor": 4
}
