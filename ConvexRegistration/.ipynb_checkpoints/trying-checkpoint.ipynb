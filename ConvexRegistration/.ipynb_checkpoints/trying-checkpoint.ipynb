{
 "cells": [
  {
   "cell_type": "code",
   "execution_count": 1,
   "metadata": {
    "ExecuteTime": {
     "end_time": "2020-02-24T06:19:33.818054Z",
     "start_time": "2020-02-24T06:19:33.312481Z"
    }
   },
   "outputs": [],
   "source": [
    "# Clean Slate for clean thoughts :)\n",
    "# Stuff\n",
    "import numpy as np\n",
    "import cvxpy as cvx\n",
    "from scipy import sparse\n",
    "from imTools import *\n",
    "from Taylor08 import *"
   ]
  },
  {
   "cell_type": "code",
   "execution_count": 2,
   "metadata": {
    "ExecuteTime": {
     "end_time": "2020-02-24T06:19:33.842480Z",
     "start_time": "2020-02-24T06:19:33.820698Z"
    }
   },
   "outputs": [],
   "source": [
    "target = readImage('images/BrainProtonDensitySliceShifted13x17y.png', (50,50))\n",
    "base = readImage('images/BrainT1Slice.png', (50,50))\n",
    "(m, n, _) = base.shape"
   ]
  },
  {
   "cell_type": "code",
   "execution_count": 25,
   "metadata": {
    "ExecuteTime": {
     "end_time": "2020-02-24T06:26:28.704682Z",
     "start_time": "2020-02-24T06:26:28.701176Z"
    }
   },
   "outputs": [],
   "source": [
    "# Let's do an example with a smaller tranformation space to start:\n",
    "px = np.random.rand(3)\n",
    "py = np.random.rand(3)\n",
    "p = np.concatenate((px,py), axis=0)\n"
   ]
  },
  {
   "cell_type": "code",
   "execution_count": 26,
   "metadata": {
    "ExecuteTime": {
     "end_time": "2020-02-24T06:26:30.198205Z",
     "start_time": "2020-02-24T06:26:30.037548Z"
    }
   },
   "outputs": [
    {
     "data": {
      "image/png": "[encoded data removed]",
      "text/plain": [
       "<Figure size 432x288 with 1 Axes>"
      ]
     },
     "metadata": {
      "needs_background": "light"
     },
     "output_type": "display_data"
    }
   ],
   "source": [
    "D = firstOrderDeformImage(base, px, py)\n",
    "plt.imshow(D)\n",
    "plt.show()"
   ]
  },
  {
   "cell_type": "code",
   "execution_count": 5,
   "metadata": {
    "ExecuteTime": {
     "end_time": "2020-02-24T06:19:34.027136Z",
     "start_time": "2020-02-24T06:19:34.024229Z"
    }
   },
   "outputs": [],
   "source": [
    "# (dIm, Ax, Ay, Iz, b, Dx, Dy, C) = Taylor08(target, base, 4, px, py)"
   ]
  },
  {
   "cell_type": "code",
   "execution_count": 27,
   "metadata": {
    "ExecuteTime": {
     "end_time": "2020-02-24T06:27:47.746713Z",
     "start_time": "2020-02-24T06:26:33.040242Z"
    }
   },
   "outputs": [
    {
     "name": "stdout",
     "output_type": "stream",
     "text": [
      "Getting Coefficients...\n",
      "Done. Time elapsed: 15.34372615814209  \n",
      "\n",
      "\n",
      "Formatting Matrices...\n",
      "Done. Total Time Elapsed:  15.880589008331299 \n",
      "\n",
      "\n"
     ]
    },
    {
     "data": {
      "image/png": "[encoded data removed]",
      "text/plain": [
       "<Figure size 432x288 with 1 Axes>"
      ]
     },
     "metadata": {
      "needs_background": "light"
     },
     "output_type": "display_data"
    },
    {
     "name": "stdout",
     "output_type": "stream",
     "text": [
      "Minimizing z...\n",
      "Done. Time elapsed:  14.094580888748169 \n",
      "\n",
      "\n",
      "Current p:  [6778413.85115515 -306932.12345347  235571.76463661  853112.37491688\n",
      "   56355.64608453  104346.64568799] \n",
      "\n",
      "\n",
      "lambdasqr =  -8.659835065841481e+17\n",
      "Getting Coefficients...\n",
      "Done. Time elapsed: 15.213718175888062  \n",
      "\n",
      "\n",
      "Formatting Matrices...\n",
      "Done. Total Time Elapsed:  15.948488235473633 \n",
      "\n",
      "\n"
     ]
    },
    {
     "data": {
      "image/png": "[encoded data removed]",
      "text/plain": [
       "<Figure size 432x288 with 1 Axes>"
      ]
     },
     "metadata": {
      "needs_background": "light"
     },
     "output_type": "display_data"
    },
    {
     "name": "stdout",
     "output_type": "stream",
     "text": [
      "Minimizing z...\n",
      "Done. Time elapsed:  6.130481958389282 \n",
      "\n",
      "\n",
      "Current p:  [-9.62027925e+07 -1.05384667e+16  2.45949503e+05  1.17169923e+17\n",
      "  1.91304281e+06 -7.32312021e+15] \n",
      "\n",
      "\n",
      "lambdasqr =  1.6603305802803146e+28\n",
      "Getting Coefficients...\n",
      "Done. Time elapsed: 15.581930160522461  \n",
      "\n",
      "\n",
      "Formatting Matrices...\n",
      "Done. Total Time Elapsed:  16.35444211959839 \n",
      "\n",
      "\n"
     ]
    },
    {
     "data": {
      "image/png": "[encoded data removed]",
      "text/plain": [
       "<Figure size 432x288 with 1 Axes>"
      ]
     },
     "metadata": {
      "needs_background": "light"
     },
     "output_type": "display_data"
    },
    {
     "name": "stdout",
     "output_type": "stream",
     "text": [
      "Minimizing z...\n",
      "Solver interrupted\n"
     ]
    },
    {
     "ename": "ValueError",
     "evalue": "OSQP solve error!",
     "output_type": "error",
     "traceback": [
      "\u001b[0;31m---------------------------------------------------------------------------\u001b[0m",
      "\u001b[0;31mValueError\u001b[0m                                Traceback (most recent call last)",
      "\u001b[0;32m<ipython-input-27-353b533520c9>\u001b[0m in \u001b[0;36m<module>\u001b[0;34m\u001b[0m\n\u001b[1;32m     16\u001b[0m     \u001b[0mconstraints\u001b[0m \u001b[0;34m=\u001b[0m \u001b[0;34m[\u001b[0m\u001b[0;34m(\u001b[0m\u001b[0mAx\u001b[0m \u001b[0;34m@\u001b[0m \u001b[0mC\u001b[0m \u001b[0;34m@\u001b[0m \u001b[0mp\u001b[0m\u001b[0;34m[\u001b[0m\u001b[0;34m:\u001b[0m\u001b[0;36m3\u001b[0m\u001b[0;34m]\u001b[0m\u001b[0;34m)\u001b[0m \u001b[0;34m+\u001b[0m \u001b[0;34m(\u001b[0m\u001b[0mAy\u001b[0m \u001b[0;34m@\u001b[0m \u001b[0mC\u001b[0m \u001b[0;34m@\u001b[0m \u001b[0mp\u001b[0m\u001b[0;34m[\u001b[0m\u001b[0;36m3\u001b[0m\u001b[0;34m:\u001b[0m\u001b[0;34m]\u001b[0m\u001b[0;34m)\u001b[0m \u001b[0;34m-\u001b[0m \u001b[0mIz\u001b[0m\u001b[0;34m@\u001b[0m\u001b[0;34m(\u001b[0m\u001b[0mtau\u001b[0m \u001b[0;34m*\u001b[0m \u001b[0mz\u001b[0m\u001b[0;34m)\u001b[0m \u001b[0;34m<=\u001b[0m \u001b[0mb\u001b[0m\u001b[0;34m]\u001b[0m\u001b[0;34m\u001b[0m\u001b[0;34m\u001b[0m\u001b[0m\n\u001b[1;32m     17\u001b[0m     \u001b[0mprob\u001b[0m \u001b[0;34m=\u001b[0m \u001b[0mcvx\u001b[0m\u001b[0;34m.\u001b[0m\u001b[0mProblem\u001b[0m\u001b[0;34m(\u001b[0m\u001b[0mobj\u001b[0m\u001b[0;34m,\u001b[0m \u001b[0mconstraints\u001b[0m\u001b[0;34m)\u001b[0m\u001b[0;34m\u001b[0m\u001b[0;34m\u001b[0m\u001b[0m\n\u001b[0;32m---> 18\u001b[0;31m     \u001b[0mresult\u001b[0m \u001b[0;34m=\u001b[0m \u001b[0mprob\u001b[0m\u001b[0;34m.\u001b[0m\u001b[0msolve\u001b[0m\u001b[0;34m(\u001b[0m\u001b[0;34m)\u001b[0m\u001b[0;34m\u001b[0m\u001b[0;34m\u001b[0m\u001b[0m\n\u001b[0m\u001b[1;32m     19\u001b[0m     \u001b[0mprint\u001b[0m\u001b[0;34m(\u001b[0m\u001b[0;34m\"Done. Time elapsed: \"\u001b[0m\u001b[0;34m,\u001b[0m \u001b[0mtime\u001b[0m\u001b[0;34m.\u001b[0m\u001b[0mtime\u001b[0m\u001b[0;34m(\u001b[0m\u001b[0;34m)\u001b[0m \u001b[0;34m-\u001b[0m \u001b[0mztime\u001b[0m\u001b[0;34m,\u001b[0m \u001b[0;34m\"\\n\\n\"\u001b[0m\u001b[0;34m)\u001b[0m\u001b[0;34m\u001b[0m\u001b[0;34m\u001b[0m\u001b[0m\n\u001b[1;32m     20\u001b[0m \u001b[0;34m\u001b[0m\u001b[0m\n",
      "\u001b[0;32m/usr/local/lib/python3.7/site-packages/cvxpy/problems/problem.py\u001b[0m in \u001b[0;36msolve\u001b[0;34m(self, *args, **kwargs)\u001b[0m\n\u001b[1;32m    287\u001b[0m         \u001b[0;32melse\u001b[0m\u001b[0;34m:\u001b[0m\u001b[0;34m\u001b[0m\u001b[0;34m\u001b[0m\u001b[0m\n\u001b[1;32m    288\u001b[0m             \u001b[0msolve_func\u001b[0m \u001b[0;34m=\u001b[0m \u001b[0mProblem\u001b[0m\u001b[0;34m.\u001b[0m\u001b[0m_solve\u001b[0m\u001b[0;34m\u001b[0m\u001b[0;34m\u001b[0m\u001b[0m\n\u001b[0;32m--> 289\u001b[0;31m         \u001b[0;32mreturn\u001b[0m \u001b[0msolve_func\u001b[0m\u001b[0;34m(\u001b[0m\u001b[0mself\u001b[0m\u001b[0;34m,\u001b[0m \u001b[0;34m*\u001b[0m\u001b[0margs\u001b[0m\u001b[0;34m,\u001b[0m \u001b[0;34m**\u001b[0m\u001b[0mkwargs\u001b[0m\u001b[0;34m)\u001b[0m\u001b[0;34m\u001b[0m\u001b[0;34m\u001b[0m\u001b[0m\n\u001b[0m\u001b[1;32m    290\u001b[0m \u001b[0;34m\u001b[0m\u001b[0m\n\u001b[1;32m    291\u001b[0m     \u001b[0;34m@\u001b[0m\u001b[0mclassmethod\u001b[0m\u001b[0;34m\u001b[0m\u001b[0;34m\u001b[0m\u001b[0m\n",
      "\u001b[0;32m/usr/local/lib/python3.7/site-packages/cvxpy/problems/problem.py\u001b[0m in \u001b[0;36m_solve\u001b[0;34m(self, solver, warm_start, verbose, parallel, gp, qcp, **kwargs)\u001b[0m\n\u001b[1;32m    569\u001b[0m             self._intermediate_problem)\n\u001b[1;32m    570\u001b[0m         solution = self._solving_chain.solve_via_data(\n\u001b[0;32m--> 571\u001b[0;31m             self, data, warm_start, verbose, kwargs)\n\u001b[0m\u001b[1;32m    572\u001b[0m         \u001b[0mfull_chain\u001b[0m \u001b[0;34m=\u001b[0m \u001b[0mself\u001b[0m\u001b[0;34m.\u001b[0m\u001b[0m_solving_chain\u001b[0m\u001b[0;34m.\u001b[0m\u001b[0mprepend\u001b[0m\u001b[0;34m(\u001b[0m\u001b[0mself\u001b[0m\u001b[0;34m.\u001b[0m\u001b[0m_intermediate_chain\u001b[0m\u001b[0;34m)\u001b[0m\u001b[0;34m\u001b[0m\u001b[0;34m\u001b[0m\u001b[0m\n\u001b[1;32m    573\u001b[0m         \u001b[0minverse_data\u001b[0m \u001b[0;34m=\u001b[0m \u001b[0mself\u001b[0m\u001b[0;34m.\u001b[0m\u001b[0m_intermediate_inverse_data\u001b[0m \u001b[0;34m+\u001b[0m \u001b[0msolving_inverse_data\u001b[0m\u001b[0;34m\u001b[0m\u001b[0;34m\u001b[0m\u001b[0m\n",
      "\u001b[0;32m/usr/local/lib/python3.7/site-packages/cvxpy/reductions/solvers/solving_chain.py\u001b[0m in \u001b[0;36msolve_via_data\u001b[0;34m(self, problem, data, warm_start, verbose, solver_opts)\u001b[0m\n\u001b[1;32m    192\u001b[0m         \"\"\"\n\u001b[1;32m    193\u001b[0m         return self.solver.solve_via_data(data, warm_start, verbose,\n\u001b[0;32m--> 194\u001b[0;31m                                           solver_opts, problem._solver_cache)\n\u001b[0m",
      "\u001b[0;32m/usr/local/lib/python3.7/site-packages/cvxpy/reductions/solvers/qp_solvers/osqp_qpif.py\u001b[0m in \u001b[0;36msolve_via_data\u001b[0;34m(self, data, warm_start, verbose, solver_opts, solver_cache)\u001b[0m\n\u001b[1;32m    113\u001b[0m             \u001b[0msolver\u001b[0m\u001b[0;34m.\u001b[0m\u001b[0msetup\u001b[0m\u001b[0;34m(\u001b[0m\u001b[0mP\u001b[0m\u001b[0;34m,\u001b[0m \u001b[0mq\u001b[0m\u001b[0;34m,\u001b[0m \u001b[0mA\u001b[0m\u001b[0;34m,\u001b[0m \u001b[0mlA\u001b[0m\u001b[0;34m,\u001b[0m \u001b[0muA\u001b[0m\u001b[0;34m,\u001b[0m \u001b[0mverbose\u001b[0m\u001b[0;34m=\u001b[0m\u001b[0mverbose\u001b[0m\u001b[0;34m,\u001b[0m \u001b[0;34m**\u001b[0m\u001b[0msolver_opts\u001b[0m\u001b[0;34m)\u001b[0m\u001b[0;34m\u001b[0m\u001b[0;34m\u001b[0m\u001b[0m\n\u001b[1;32m    114\u001b[0m \u001b[0;34m\u001b[0m\u001b[0m\n\u001b[0;32m--> 115\u001b[0;31m         \u001b[0mresults\u001b[0m \u001b[0;34m=\u001b[0m \u001b[0msolver\u001b[0m\u001b[0;34m.\u001b[0m\u001b[0msolve\u001b[0m\u001b[0;34m(\u001b[0m\u001b[0;34m)\u001b[0m\u001b[0;34m\u001b[0m\u001b[0;34m\u001b[0m\u001b[0m\n\u001b[0m\u001b[1;32m    116\u001b[0m \u001b[0;34m\u001b[0m\u001b[0m\n\u001b[1;32m    117\u001b[0m         \u001b[0;32mif\u001b[0m \u001b[0msolver_cache\u001b[0m \u001b[0;32mis\u001b[0m \u001b[0;32mnot\u001b[0m \u001b[0;32mNone\u001b[0m\u001b[0;34m:\u001b[0m\u001b[0;34m\u001b[0m\u001b[0;34m\u001b[0m\u001b[0m\n",
      "\u001b[0;32m/usr/local/lib/python3.7/site-packages/osqp/interface.py\u001b[0m in \u001b[0;36msolve\u001b[0;34m(self)\u001b[0m\n\u001b[1;32m    199\u001b[0m         \"\"\"\n\u001b[1;32m    200\u001b[0m         \u001b[0;31m# Solve QP\u001b[0m\u001b[0;34m\u001b[0m\u001b[0;34m\u001b[0m\u001b[0;34m\u001b[0m\u001b[0m\n\u001b[0;32m--> 201\u001b[0;31m         \u001b[0;32mreturn\u001b[0m \u001b[0mself\u001b[0m\u001b[0;34m.\u001b[0m\u001b[0m_model\u001b[0m\u001b[0;34m.\u001b[0m\u001b[0msolve\u001b[0m\u001b[0;34m(\u001b[0m\u001b[0;34m)\u001b[0m\u001b[0;34m\u001b[0m\u001b[0;34m\u001b[0m\u001b[0m\n\u001b[0m\u001b[1;32m    202\u001b[0m \u001b[0;34m\u001b[0m\u001b[0m\n\u001b[1;32m    203\u001b[0m     \u001b[0;32mdef\u001b[0m \u001b[0mwarm_start\u001b[0m\u001b[0;34m(\u001b[0m\u001b[0mself\u001b[0m\u001b[0;34m,\u001b[0m \u001b[0mx\u001b[0m\u001b[0;34m=\u001b[0m\u001b[0;32mNone\u001b[0m\u001b[0;34m,\u001b[0m \u001b[0my\u001b[0m\u001b[0;34m=\u001b[0m\u001b[0;32mNone\u001b[0m\u001b[0;34m)\u001b[0m\u001b[0;34m:\u001b[0m\u001b[0;34m\u001b[0m\u001b[0;34m\u001b[0m\u001b[0m\n",
      "\u001b[0;31mValueError\u001b[0m: OSQP solve error!"
     ]
    }
   ],
   "source": [
    "Parr = []\n",
    "mu = 20\n",
    "for i in range(10):\n",
    "    \n",
    "    (im, Ax, Ay, Iz, b, Dx, Dy, C) = getConstraintCoeffs2(target, base, 10, 4, 10, p[:3], p[3:])\n",
    "    plt.imshow(im)\n",
    "    plt.show()\n",
    "\n",
    "#     tau = 10*mu**i\n",
    "    tau = 1\n",
    "\n",
    "    print(\"Minimizing z...\")\n",
    "    ztime = time.time()\n",
    "    z = cvx.Variable(m*n)\n",
    "    obj = cvx.Minimize(sum(tau * z) )\n",
    "    constraints = [(Ax @ C @ p[:3]) + (Ay @ C @ p[3:]) - Iz@(tau * z) <= b]\n",
    "    prob = cvx.Problem(obj, constraints)\n",
    "    result = prob.solve()\n",
    "    print(\"Done. Time elapsed: \", time.time() - ztime, \"\\n\\n\")\n",
    "    \n",
    "    A = (Ax @ C @ p[:3]) + (Ay @ C @ p[3:]) - Iz@(z.value)\n",
    "    s = b - A + 1/(10)**8\n",
    "    d = sparse.diags(s**(-1))\n",
    "    d2 = d**2\n",
    "    np.linalg.solve(tau * np.ones)\n",
    "\n",
    "    (Hp, Hz, D6) = getHessians(Ax, Ay, Iz, C, d2)\n",
    "\n",
    "    tau = 10*(mu**i)\n",
    "    gz = - 1 * tau - Iz.T@s**(-1)\n",
    "    gpx =  C.T@Ax.T@s**(-1)\n",
    "    gpy =  C.T@Ay.T@s**(-1)\n",
    "    gp = np.concatenate((gpx, gpy), axis = 0)\n",
    "    g = np.concatenate((gp, gz), axis = 0)\n",
    "    Dinv = sparse.linalg.inv(D6)\n",
    "\n",
    "    dp = np.linalg.solve(Hp - Hz.T @ Dinv @ Hz, gp - Hz.T @ Dinv @ gz)\n",
    "    dz = sparse.linalg.inv(D6)@(gz - Hz @ dp)\n",
    "    delta = np.concatenate((dp, dz), axis = 0)\n",
    "    lambdasqr = -1 * gp.T @ dp\n",
    "    \n",
    "    p += dp\n",
    "    Parr.append(p)\n",
    "    print(\"Current p: \", p, \"\\n\\n\")\n",
    "    print(\"lambdasqr = \", lambdasqr)\n"
   ]
  },
  {
   "cell_type": "code",
   "execution_count": 28,
   "metadata": {
    "ExecuteTime": {
     "end_time": "2020-02-24T06:28:38.844349Z",
     "start_time": "2020-02-24T06:28:38.687729Z"
    }
   },
   "outputs": [
    {
     "data": {
      "image/png": "[encoded data removed]",
      "text/plain": [
       "<Figure size 432x288 with 1 Axes>"
      ]
     },
     "metadata": {
      "needs_background": "light"
     },
     "output_type": "display_data"
    }
   ],
   "source": [
    "p = np.array([17.92433684, -0.88631844, -0.45702902,  7.62526634, -0.28339296, -0.78042884])\n",
    "D2 = firstOrderDeformImage(base, p[:3], p[3:])\n",
    "plt.imshow(D2)\n",
    "plt.show()"
   ]
  },
  {
   "cell_type": "code",
   "execution_count": null,
   "metadata": {
    "ExecuteTime": {
     "end_time": "2020-02-24T06:20:30.660261Z",
     "start_time": "2020-02-24T06:19:33.327Z"
    }
   },
   "outputs": [],
   "source": [
    "a1 = np.random.rand(14)\n",
    "a2 = np.random.rand(23)\n",
    "a = np.concatenate((a1, a2), axis = 0)\n",
    "col = np.concatenate(([0]*14, [1]*23), axis = 0 )\n",
    "row = np.array([i for i in range(37)])"
   ]
  },
  {
   "cell_type": "code",
   "execution_count": null,
   "metadata": {
    "ExecuteTime": {
     "end_time": "2020-02-24T06:20:30.661485Z",
     "start_time": "2020-02-24T06:19:33.330Z"
    }
   },
   "outputs": [],
   "source": [
    "test = sparse.csc_matrix((a, (row, col)), shape = (len(a), 2))"
   ]
  },
  {
   "cell_type": "code",
   "execution_count": null,
   "metadata": {
    "ExecuteTime": {
     "end_time": "2020-02-24T06:20:30.662369Z",
     "start_time": "2020-02-24T06:19:33.332Z"
    }
   },
   "outputs": [],
   "source": [
    "test.toarray()"
   ]
  },
  {
   "cell_type": "code",
   "execution_count": 8,
   "metadata": {
    "ExecuteTime": {
     "end_time": "2020-02-24T06:21:16.904150Z",
     "start_time": "2020-02-24T06:21:16.899582Z"
    }
   },
   "outputs": [],
   "source": [
    "a1 = np.random.rand(14)\n",
    "a2 = np.random.rand(23)\n",
    "a = np.concatenate((a1, a2), axis = 0)\n",
    "col = np.concatenate(([0]*14, [1]*23), axis = 0 )\n",
    "row = np.array([i for i in range(37)])"
   ]
  },
  {
   "cell_type": "code",
   "execution_count": null,
   "metadata": {
    "ExecuteTime": {
     "end_time": "2020-02-24T06:20:30.664430Z",
     "start_time": "2020-02-24T06:19:33.336Z"
    }
   },
   "outputs": [],
   "source": [
    "def coeffMatFormat(A, numFacets):\n",
    "    \"\"\"Converts coefficients to form in paper\"\"\"\n",
    "    col = np.array([])\n",
    "    for i in range(len(numFacets)):\n",
    "        col = np.concatenate((col, [i]*numFacets[i]), axis = 0)\n",
    "        \n",
    "    row = np.array([i for i in range(len(A))])\n",
    "    \n",
    "    return sparse.csc_matrix((A, (row, col)), shape = (len(A), len(numFacets)))"
   ]
  },
  {
   "cell_type": "code",
   "execution_count": 11,
   "metadata": {
    "ExecuteTime": {
     "end_time": "2020-02-24T06:21:45.558844Z",
     "start_time": "2020-02-24T06:21:45.555458Z"
    }
   },
   "outputs": [],
   "source": [
    "test = coeffMatFormat2(a, [14, 23])"
   ]
  },
  {
   "cell_type": "code",
   "execution_count": 12,
   "metadata": {
    "ExecuteTime": {
     "end_time": "2020-02-24T06:21:47.263473Z",
     "start_time": "2020-02-24T06:21:47.258251Z"
    }
   },
   "outputs": [
    {
     "data": {
      "text/plain": [
       "array([[0.84047367, 0.        ],\n",
       "       [0.2511974 , 0.        ],\n",
       "       [0.27969006, 0.        ],\n",
       "       [0.68283556, 0.        ],\n",
       "       [0.20720765, 0.        ],\n",
       "       [0.43524354, 0.        ],\n",
       "       [0.68143768, 0.        ],\n",
       "       [0.77048216, 0.        ],\n",
       "       [0.28293138, 0.        ],\n",
       "       [0.36718871, 0.        ],\n",
       "       [0.68000581, 0.        ],\n",
       "       [0.83299042, 0.        ],\n",
       "       [0.34111696, 0.        ],\n",
       "       [0.02197692, 0.        ],\n",
       "       [0.        , 0.95619131],\n",
       "       [0.        , 0.98840655],\n",
       "       [0.        , 0.19107389],\n",
       "       [0.        , 0.51699681],\n",
       "       [0.        , 0.84754837],\n",
       "       [0.        , 0.58913158],\n",
       "       [0.        , 0.05401806],\n",
       "       [0.        , 0.04837833],\n",
       "       [0.        , 0.95824632],\n",
       "       [0.        , 0.77933047],\n",
       "       [0.        , 0.4361604 ],\n",
       "       [0.        , 0.20649768],\n",
       "       [0.        , 0.84260633],\n",
       "       [0.        , 0.4581228 ],\n",
       "       [0.        , 0.0186351 ],\n",
       "       [0.        , 0.95723477],\n",
       "       [0.        , 0.23144384],\n",
       "       [0.        , 0.48398927],\n",
       "       [0.        , 0.80932213],\n",
       "       [0.        , 0.41674095],\n",
       "       [0.        , 0.45838761],\n",
       "       [0.        , 0.72083312],\n",
       "       [0.        , 0.32819604]])"
      ]
     },
     "execution_count": 12,
     "metadata": {},
     "output_type": "execute_result"
    }
   ],
   "source": [
    "test.toarray()"
   ]
  },
  {
   "cell_type": "code",
   "execution_count": 14,
   "metadata": {
    "ExecuteTime": {
     "end_time": "2020-02-24T06:22:12.142103Z",
     "start_time": "2020-02-24T06:22:12.139159Z"
    }
   },
   "outputs": [],
   "source": [
    "test = coeffMatFormat([a1,a2])"
   ]
  },
  {
   "cell_type": "code",
   "execution_count": 16,
   "metadata": {
    "ExecuteTime": {
     "end_time": "2020-02-24T06:22:17.119599Z",
     "start_time": "2020-02-24T06:22:17.114559Z"
    }
   },
   "outputs": [
    {
     "data": {
      "text/plain": [
       "array([[0.84047367, 0.        ],\n",
       "       [0.2511974 , 0.        ],\n",
       "       [0.27969006, 0.        ],\n",
       "       [0.68283556, 0.        ],\n",
       "       [0.20720765, 0.        ],\n",
       "       [0.43524354, 0.        ],\n",
       "       [0.68143768, 0.        ],\n",
       "       [0.77048216, 0.        ],\n",
       "       [0.28293138, 0.        ],\n",
       "       [0.36718871, 0.        ],\n",
       "       [0.68000581, 0.        ],\n",
       "       [0.83299042, 0.        ],\n",
       "       [0.34111696, 0.        ],\n",
       "       [0.02197692, 0.        ],\n",
       "       [0.        , 0.95619131],\n",
       "       [0.        , 0.98840655],\n",
       "       [0.        , 0.19107389],\n",
       "       [0.        , 0.51699681],\n",
       "       [0.        , 0.84754837],\n",
       "       [0.        , 0.58913158],\n",
       "       [0.        , 0.05401806],\n",
       "       [0.        , 0.04837833],\n",
       "       [0.        , 0.95824632],\n",
       "       [0.        , 0.77933047],\n",
       "       [0.        , 0.4361604 ],\n",
       "       [0.        , 0.20649768],\n",
       "       [0.        , 0.84260633],\n",
       "       [0.        , 0.4581228 ],\n",
       "       [0.        , 0.0186351 ],\n",
       "       [0.        , 0.95723477],\n",
       "       [0.        , 0.23144384],\n",
       "       [0.        , 0.48398927],\n",
       "       [0.        , 0.80932213],\n",
       "       [0.        , 0.41674095],\n",
       "       [0.        , 0.45838761],\n",
       "       [0.        , 0.72083312],\n",
       "       [0.        , 0.32819604]])"
      ]
     },
     "execution_count": 16,
     "metadata": {},
     "output_type": "execute_result"
    }
   ],
   "source": [
    "test.toarray()"
   ]
  },
  {
   "cell_type": "code",
   "execution_count": null,
   "metadata": {},
   "outputs": [],
   "source": []
  }
 ],
 "metadata": {
  "kernelspec": {
   "display_name": "Python 3",
   "language": "python",
   "name": "python3"
  },
  "language_info": {
   "codemirror_mode": {
    "name": "ipython",
    "version": 3
   },
   "file_extension": ".py",
   "mimetype": "text/x-python",
   "name": "python",
   "nbconvert_exporter": "python",
   "pygments_lexer": "ipython3",
   "version": "3.7.4"
  },
  "toc": {
   "base_numbering": 1,
   "nav_menu": {},
   "number_sections": true,
   "sideBar": true,
   "skip_h1_title": false,
   "title_cell": "Table of Contents",
   "title_sidebar": "Contents",
   "toc_cell": false,
   "toc_position": {},
   "toc_section_display": true,
   "toc_window_display": false
  }
 },
 "nbformat": 4,
 "nbformat_minor": 2
}
