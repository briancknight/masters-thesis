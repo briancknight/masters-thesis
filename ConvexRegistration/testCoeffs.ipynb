{
 "cells": [
  {
   "cell_type": "code",
   "execution_count": 1,
   "metadata": {
    "ExecuteTime": {
     "end_time": "2020-02-01T21:56:00.208963Z",
     "start_time": "2020-02-01T21:56:00.148332Z"
    }
   },
   "outputs": [],
   "source": [
    "import numpy as np"
   ]
  },
  {
   "cell_type": "code",
   "execution_count": 2,
   "metadata": {
    "ExecuteTime": {
     "end_time": "2020-02-01T21:56:00.590463Z",
     "start_time": "2020-02-01T21:56:00.211040Z"
    }
   },
   "outputs": [],
   "source": [
    "from imTools import *"
   ]
  },
  {
   "cell_type": "code",
   "execution_count": 3,
   "metadata": {
    "ExecuteTime": {
     "end_time": "2020-02-01T21:56:00.623556Z",
     "start_time": "2020-02-01T21:56:00.592716Z"
    }
   },
   "outputs": [],
   "source": [
    "\ttarget = readImage('images/BrainProtonDensitySliceShifted13x17y.png', (100,100))\n",
    "\tbase = readImage('images/BrainT1Slice.png', (100,100))"
   ]
  },
  {
   "cell_type": "code",
   "execution_count": 4,
   "metadata": {
    "ExecuteTime": {
     "end_time": "2020-02-01T21:56:00.763791Z",
     "start_time": "2020-02-01T21:56:00.625261Z"
    }
   },
   "outputs": [
    {
     "data": {
      "image/png": "[encoded data removed]",
      "text/plain": [
       "<Figure size 432x288 with 1 Axes>"
      ]
     },
     "metadata": {
      "needs_background": "light"
     },
     "output_type": "display_data"
    }
   ],
   "source": [
    "plt.imshow(target)\n",
    "plt.show()"
   ]
  },
  {
   "cell_type": "code",
   "execution_count": 5,
   "metadata": {
    "ExecuteTime": {
     "end_time": "2020-02-01T21:56:00.842422Z",
     "start_time": "2020-02-01T21:56:00.765799Z"
    }
   },
   "outputs": [],
   "source": [
    "from Taylor08 import *"
   ]
  },
  {
   "cell_type": "code",
   "execution_count": 6,
   "metadata": {
    "ExecuteTime": {
     "end_time": "2020-02-01T21:56:00.847122Z",
     "start_time": "2020-02-01T21:56:00.844070Z"
    }
   },
   "outputs": [],
   "source": [
    "px = np.random.random(19)\n",
    "py = np.random.random(19)\n"
   ]
  },
  {
   "cell_type": "code",
   "execution_count": 7,
   "metadata": {
    "ExecuteTime": {
     "end_time": "2020-02-01T21:56:00.852519Z",
     "start_time": "2020-02-01T21:56:00.850146Z"
    }
   },
   "outputs": [],
   "source": [
    "# D = gaussianDeformImage(target, 10, 4, px, py)"
   ]
  },
  {
   "cell_type": "code",
   "execution_count": 8,
   "metadata": {
    "ExecuteTime": {
     "end_time": "2020-02-01T21:56:00.857746Z",
     "start_time": "2020-02-01T21:56:00.855335Z"
    }
   },
   "outputs": [],
   "source": [
    "# plt.imshow(D)\n",
    "# plt.show()"
   ]
  },
  {
   "cell_type": "code",
   "execution_count": 9,
   "metadata": {
    "ExecuteTime": {
     "end_time": "2020-02-01T21:56:28.437869Z",
     "start_time": "2020-02-01T21:56:00.859326Z"
    }
   },
   "outputs": [],
   "source": [
    "(Ax, Ay, Iz, b, Dx, Dy) = Taylor08(target, base, 10)"
   ]
  },
  {
   "cell_type": "code",
   "execution_count": 17,
   "metadata": {
    "ExecuteTime": {
     "end_time": "2020-02-01T21:57:20.627841Z",
     "start_time": "2020-02-01T21:57:20.623312Z"
    }
   },
   "outputs": [
    {
     "data": {
      "text/plain": [
       "array([[-0.11026576,  0.        ,  0.        , ...,  0.        ,\n",
       "         0.        ,  0.        ],\n",
       "       [-0.        ,  0.        ,  0.        , ...,  0.        ,\n",
       "         0.        ,  0.        ],\n",
       "       [ 0.23371763,  0.        ,  0.        , ...,  0.        ,\n",
       "         0.        ,  0.        ],\n",
       "       ...,\n",
       "       [ 0.        ,  0.        ,  0.        , ...,  0.        ,\n",
       "         0.        ,  0.        ],\n",
       "       [ 0.        ,  0.        ,  0.        , ...,  0.        ,\n",
       "         0.        ,  0.        ],\n",
       "       [ 0.        ,  0.        ,  0.        , ...,  0.        ,\n",
       "         0.        ,  0.        ]])"
      ]
     },
     "execution_count": 17,
     "metadata": {},
     "output_type": "execute_result"
    }
   ],
   "source": [
    "Ax[0:20]"
   ]
  },
  {
   "cell_type": "code",
   "execution_count": 16,
   "metadata": {
    "ExecuteTime": {
     "end_time": "2020-02-01T21:56:49.039946Z",
     "start_time": "2020-02-01T21:56:49.036064Z"
    }
   },
   "outputs": [
    {
     "data": {
      "text/plain": [
       "3382"
      ]
     },
     "execution_count": 16,
     "metadata": {},
     "output_type": "execute_result"
    }
   ],
   "source": [
    "len(Dx)"
   ]
  },
  {
   "cell_type": "code",
   "execution_count": null,
   "metadata": {
    "ExecuteTime": {
     "end_time": "2020-02-01T21:56:28.454939Z",
     "start_time": "2020-02-01T21:56:28.450889Z"
    }
   },
   "outputs": [],
   "source": []
  },
  {
   "cell_type": "code",
   "execution_count": null,
   "metadata": {
    "ExecuteTime": {
     "end_time": "2020-02-01T21:56:28.460084Z",
     "start_time": "2020-02-01T21:56:28.456356Z"
    }
   },
   "outputs": [],
   "source": []
  },
  {
   "cell_type": "code",
   "execution_count": null,
   "metadata": {
    "ExecuteTime": {
     "end_time": "2020-02-01T21:56:28.466759Z",
     "start_time": "2020-02-01T21:56:28.461609Z"
    }
   },
   "outputs": [],
   "source": []
  },
  {
   "cell_type": "code",
   "execution_count": null,
   "metadata": {},
   "outputs": [],
   "source": []
  }
 ],
 "metadata": {
  "kernelspec": {
   "display_name": "Python 3",
   "language": "python",
   "name": "python3"
  },
  "language_info": {
   "codemirror_mode": {
    "name": "ipython",
    "version": 3
   },
   "file_extension": ".py",
   "mimetype": "text/x-python",
   "name": "python",
   "nbconvert_exporter": "python",
   "pygments_lexer": "ipython3",
   "version": "3.7.4"
  },
  "toc": {
   "base_numbering": 1,
   "nav_menu": {},
   "number_sections": true,
   "sideBar": true,
   "skip_h1_title": false,
   "title_cell": "Table of Contents",
   "title_sidebar": "Contents",
   "toc_cell": false,
   "toc_position": {},
   "toc_section_display": true,
   "toc_window_display": false
  }
 },
 "nbformat": 4,
 "nbformat_minor": 4
}
