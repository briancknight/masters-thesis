{
 "cells": [
  {
   "cell_type": "code",
   "execution_count": 1,
   "metadata": {
    "ExecuteTime": {
     "end_time": "2020-02-12T20:11:36.535807Z",
     "start_time": "2020-02-12T20:11:36.456904Z"
    }
   },
   "outputs": [],
   "source": [
    "import numpy as np"
   ]
  },
  {
   "cell_type": "code",
   "execution_count": 2,
   "metadata": {
    "ExecuteTime": {
     "end_time": "2020-02-12T20:11:36.964127Z",
     "start_time": "2020-02-12T20:11:36.538331Z"
    }
   },
   "outputs": [],
   "source": [
    "from imTools import *"
   ]
  },
  {
   "cell_type": "code",
   "execution_count": 3,
   "metadata": {
    "ExecuteTime": {
     "end_time": "2020-02-12T20:11:36.985306Z",
     "start_time": "2020-02-12T20:11:36.966213Z"
    }
   },
   "outputs": [],
   "source": [
    "# target = readImage('images/BrainProtonDensitySliceShifted13x17y.png', (100,100))\n",
    "# base = readImage('images/BrainT1Slice.png', (100,100))\n",
    "target = readImage('images/BrainProtonDensitySliceShifted13x17y.png', (50,50))\n",
    "base = readImage('images/BrainT1Slice.png', (50,50))"
   ]
  },
  {
   "cell_type": "code",
   "execution_count": 4,
   "metadata": {
    "ExecuteTime": {
     "end_time": "2020-02-12T20:11:37.124556Z",
     "start_time": "2020-02-12T20:11:36.987172Z"
    }
   },
   "outputs": [
    {
     "data": {
      "image/png": "[encoded data removed]",
      "text/plain": [
       "<Figure size 432x288 with 1 Axes>"
      ]
     },
     "metadata": {
      "needs_background": "light"
     },
     "output_type": "display_data"
    }
   ],
   "source": [
    "plt.imshow(target)\n",
    "plt.show()"
   ]
  },
  {
   "cell_type": "code",
   "execution_count": 5,
   "metadata": {
    "ExecuteTime": {
     "end_time": "2020-02-12T20:11:37.239781Z",
     "start_time": "2020-02-12T20:11:37.127415Z"
    }
   },
   "outputs": [],
   "source": [
    "from Taylor08 import *"
   ]
  },
  {
   "cell_type": "code",
   "execution_count": 17,
   "metadata": {
    "ExecuteTime": {
     "end_time": "2020-02-12T20:11:53.332733Z",
     "start_time": "2020-02-12T20:11:53.329891Z"
    }
   },
   "outputs": [],
   "source": [
    "px = np.random.random(19)\n",
    "py = np.random.random(19)"
   ]
  },
  {
   "cell_type": "code",
   "execution_count": 18,
   "metadata": {
    "ExecuteTime": {
     "end_time": "2020-02-12T20:11:55.563127Z",
     "start_time": "2020-02-12T20:11:55.064744Z"
    }
   },
   "outputs": [],
   "source": [
    "D = gaussianDeformImage(target, 10, 4, px, py)"
   ]
  },
  {
   "cell_type": "code",
   "execution_count": 19,
   "metadata": {
    "ExecuteTime": {
     "end_time": "2020-02-12T20:11:56.382059Z",
     "start_time": "2020-02-12T20:11:56.249823Z"
    }
   },
   "outputs": [
    {
     "data": {
      "image/png": "[encoded data removed]",
      "text/plain": [
       "<Figure size 432x288 with 1 Axes>"
      ]
     },
     "metadata": {
      "needs_background": "light"
     },
     "output_type": "display_data"
    }
   ],
   "source": [
    "plt.imshow(D)\n",
    "plt.show()"
   ]
  },
  {
   "cell_type": "code",
   "execution_count": 20,
   "metadata": {
    "ExecuteTime": {
     "end_time": "2020-02-12T20:12:02.606714Z",
     "start_time": "2020-02-12T20:11:58.752984Z"
    }
   },
   "outputs": [],
   "source": [
    "(dIm, Ax, Ay, Iz, b, Dx, Dy, C) = Taylor08(target, base, 10, px, py)"
   ]
  },
  {
   "cell_type": "code",
   "execution_count": 21,
   "metadata": {
    "ExecuteTime": {
     "end_time": "2020-02-12T20:12:03.836736Z",
     "start_time": "2020-02-12T20:12:03.706327Z"
    }
   },
   "outputs": [
    {
     "data": {
      "image/png": "[encoded data removed]",
      "text/plain": [
       "<Figure size 432x288 with 1 Axes>"
      ]
     },
     "metadata": {
      "needs_background": "light"
     },
     "output_type": "display_data"
    }
   ],
   "source": [
    "plt.imshow(dIm)\n",
    "plt.show()"
   ]
  },
  {
   "cell_type": "code",
   "execution_count": 11,
   "metadata": {
    "ExecuteTime": {
     "end_time": "2020-02-12T20:11:41.205904Z",
     "start_time": "2020-02-12T20:11:41.200822Z"
    }
   },
   "outputs": [
    {
     "data": {
      "text/plain": [
       "(7849, 416)"
      ]
     },
     "execution_count": 11,
     "metadata": {},
     "output_type": "execute_result"
    }
   ],
   "source": [
    "Ax.shape"
   ]
  },
  {
   "cell_type": "code",
   "execution_count": 22,
   "metadata": {
    "ExecuteTime": {
     "end_time": "2020-02-12T20:12:12.318364Z",
     "start_time": "2020-02-12T20:12:12.304211Z"
    }
   },
   "outputs": [],
   "source": [
    "z = np.random.random(len(b))\n",
    "a = np.matmul(Ax, Dx) + np.matmul(Ay, Dy) - z"
   ]
  },
  {
   "cell_type": "code",
   "execution_count": 23,
   "metadata": {
    "ExecuteTime": {
     "end_time": "2020-02-12T20:12:14.138955Z",
     "start_time": "2020-02-12T20:12:14.136098Z"
    }
   },
   "outputs": [],
   "source": [
    "s = b - a"
   ]
  },
  {
   "cell_type": "code",
   "execution_count": 24,
   "metadata": {
    "ExecuteTime": {
     "end_time": "2020-02-12T20:12:18.627239Z",
     "start_time": "2020-02-12T20:12:16.207924Z"
    }
   },
   "outputs": [],
   "source": [
    "D1 = Ax.T@np.diag(s**(-2))@Ax\n",
    "D2 = Ay.T@np.diag(s**(-2))@Ay"
   ]
  },
  {
   "cell_type": "code",
   "execution_count": 39,
   "metadata": {
    "ExecuteTime": {
     "end_time": "2020-02-12T20:16:48.288423Z",
     "start_time": "2020-02-12T20:16:48.284531Z"
    }
   },
   "outputs": [
    {
     "data": {
      "text/plain": [
       "(559, 559)"
      ]
     },
     "execution_count": 39,
     "metadata": {},
     "output_type": "execute_result"
    }
   ],
   "source": []
  },
  {
   "cell_type": "code",
   "execution_count": 40,
   "metadata": {
    "ExecuteTime": {
     "end_time": "2020-02-12T20:17:02.831755Z",
     "start_time": "2020-02-12T20:17:02.827012Z"
    }
   },
   "outputs": [],
   "source": [
    "Hpx = C.T@D1@C\n",
    "Hpy = C.T@D2@C"
   ]
  },
  {
   "cell_type": "code",
   "execution_count": 45,
   "metadata": {
    "ExecuteTime": {
     "end_time": "2020-02-12T20:17:54.324112Z",
     "start_time": "2020-02-12T20:17:54.319399Z"
    }
   },
   "outputs": [
    {
     "data": {
      "text/plain": [
       "(19, 38)"
      ]
     },
     "execution_count": 45,
     "metadata": {},
     "output_type": "execute_result"
    }
   ],
   "source": [
    "(np.concatenate((Hpx, Hpy), axis=1)).shape"
   ]
  },
  {
   "cell_type": "code",
   "execution_count": null,
   "metadata": {
    "ExecuteTime": {
     "end_time": "2020-02-12T20:11:42.528887Z",
     "start_time": "2020-02-12T20:11:36.494Z"
    }
   },
   "outputs": [],
   "source": [
    "gpx = -1 * dx.T@s**(-1)\n",
    "gpy = -1 * dy.T@s**(-1)\n",
    "gz = -1 * dz.T@s**(-1)"
   ]
  },
  {
   "cell_type": "code",
   "execution_count": 52,
   "metadata": {
    "ExecuteTime": {
     "end_time": "2020-02-12T20:24:20.550927Z",
     "start_time": "2020-02-12T20:24:20.547093Z"
    }
   },
   "outputs": [
    {
     "data": {
      "text/plain": [
       "(10572,)"
      ]
     },
     "execution_count": 52,
     "metadata": {},
     "output_type": "execute_result"
    }
   ],
   "source": [
    "b.shape"
   ]
  },
  {
   "cell_type": "code",
   "execution_count": null,
   "metadata": {
    "ExecuteTime": {
     "end_time": "2020-02-12T20:24:03.367809Z",
     "start_time": "2020-02-12T20:24:03.363938Z"
    }
   },
   "outputs": [],
   "source": []
  },
  {
   "cell_type": "code",
   "execution_count": null,
   "metadata": {
    "ExecuteTime": {
     "end_time": "2020-02-12T20:24:08.950515Z",
     "start_time": "2020-02-12T20:24:08.946513Z"
    }
   },
   "outputs": [],
   "source": []
  },
  {
   "cell_type": "code",
   "execution_count": null,
   "metadata": {},
   "outputs": [],
   "source": []
  },
  {
   "cell_type": "code",
   "execution_count": null,
   "metadata": {
    "ExecuteTime": {
     "end_time": "2020-02-12T18:08:25.817717Z",
     "start_time": "2020-02-12T18:08:25.567870Z"
    }
   },
   "outputs": [],
   "source": []
  },
  {
   "cell_type": "code",
   "execution_count": null,
   "metadata": {},
   "outputs": [],
   "source": []
  }
 ],
 "metadata": {
  "kernelspec": {
   "display_name": "Python 3",
   "language": "python",
   "name": "python3"
  },
  "language_info": {
   "codemirror_mode": {
    "name": "ipython",
    "version": 3
   },
   "file_extension": ".py",
   "mimetype": "text/x-python",
   "name": "python",
   "nbconvert_exporter": "python",
   "pygments_lexer": "ipython3",
   "version": "3.7.4"
  },
  "toc": {
   "base_numbering": 1,
   "nav_menu": {},
   "number_sections": true,
   "sideBar": true,
   "skip_h1_title": false,
   "title_cell": "Table of Contents",
   "title_sidebar": "Contents",
   "toc_cell": false,
   "toc_position": {},
   "toc_section_display": true,
   "toc_window_display": false
  }
 },
 "nbformat": 4,
 "nbformat_minor": 4
}
