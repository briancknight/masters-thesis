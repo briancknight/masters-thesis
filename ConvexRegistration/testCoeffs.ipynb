{
 "cells": [
  {
   "cell_type": "code",
   "execution_count": 1,
   "metadata": {
    "ExecuteTime": {
     "end_time": "2020-02-04T05:02:37.171493Z",
     "start_time": "2020-02-04T05:02:37.069405Z"
    }
   },
   "outputs": [],
   "source": [
    "import numpy as np"
   ]
  },
  {
   "cell_type": "code",
   "execution_count": 2,
   "metadata": {
    "ExecuteTime": {
     "end_time": "2020-02-04T05:02:37.804754Z",
     "start_time": "2020-02-04T05:02:37.173300Z"
    }
   },
   "outputs": [],
   "source": [
    "from imTools import *"
   ]
  },
  {
   "cell_type": "code",
   "execution_count": 3,
   "metadata": {
    "ExecuteTime": {
     "end_time": "2020-02-04T05:02:37.846704Z",
     "start_time": "2020-02-04T05:02:37.807021Z"
    }
   },
   "outputs": [],
   "source": [
    "\ttarget = readImage('images/BrainProtonDensitySliceShifted13x17y.png', (100,100))\n",
    "\tbase = readImage('images/BrainT1Slice.png', (100,100))"
   ]
  },
  {
   "cell_type": "code",
   "execution_count": 4,
   "metadata": {
    "ExecuteTime": {
     "end_time": "2020-02-04T05:02:37.999970Z",
     "start_time": "2020-02-04T05:02:37.848473Z"
    }
   },
   "outputs": [
    {
     "data": {
      "image/png": "[encoded data removed]",
      "text/plain": [
       "<Figure size 432x288 with 1 Axes>"
      ]
     },
     "metadata": {
      "needs_background": "light"
     },
     "output_type": "display_data"
    }
   ],
   "source": [
    "plt.imshow(target)\n",
    "plt.show()"
   ]
  },
  {
   "cell_type": "code",
   "execution_count": 5,
   "metadata": {
    "ExecuteTime": {
     "end_time": "2020-02-04T05:02:38.265773Z",
     "start_time": "2020-02-04T05:02:38.002805Z"
    }
   },
   "outputs": [],
   "source": [
    "from Taylor08 import *"
   ]
  },
  {
   "cell_type": "code",
   "execution_count": 6,
   "metadata": {
    "ExecuteTime": {
     "end_time": "2020-02-04T05:02:38.271809Z",
     "start_time": "2020-02-04T05:02:38.268132Z"
    }
   },
   "outputs": [],
   "source": [
    "px = np.random.random(19)\n",
    "py = np.random.random(19)\n"
   ]
  },
  {
   "cell_type": "code",
   "execution_count": 7,
   "metadata": {
    "ExecuteTime": {
     "end_time": "2020-02-04T05:02:38.275924Z",
     "start_time": "2020-02-04T05:02:38.273606Z"
    }
   },
   "outputs": [],
   "source": [
    "# D = gaussianDeformImage(target, 10, 4, px, py)"
   ]
  },
  {
   "cell_type": "code",
   "execution_count": 8,
   "metadata": {
    "ExecuteTime": {
     "end_time": "2020-02-04T05:02:38.279367Z",
     "start_time": "2020-02-04T05:02:38.277342Z"
    }
   },
   "outputs": [],
   "source": [
    "# plt.imshow(D)\n",
    "# plt.show()"
   ]
  },
  {
   "cell_type": "code",
   "execution_count": 9,
   "metadata": {
    "ExecuteTime": {
     "end_time": "2020-02-04T05:03:11.111967Z",
     "start_time": "2020-02-04T05:02:38.281032Z"
    }
   },
   "outputs": [],
   "source": [
    "(dIm, Ax, Ay, Iz, b, Dx, Dy) = Taylor08(target, base, 10)"
   ]
  },
  {
   "cell_type": "code",
   "execution_count": 10,
   "metadata": {
    "ExecuteTime": {
     "end_time": "2020-02-04T05:03:11.243645Z",
     "start_time": "2020-02-04T05:03:11.113667Z"
    }
   },
   "outputs": [
    {
     "data": {
      "image/png": "[encoded data removed]",
      "text/plain": [
       "<Figure size 432x288 with 1 Axes>"
      ]
     },
     "metadata": {
      "needs_background": "light"
     },
     "output_type": "display_data"
    }
   ],
   "source": [
    "plt.imshow(dIm)\n",
    "plt.show()"
   ]
  },
  {
   "cell_type": "code",
   "execution_count": 11,
   "metadata": {
    "ExecuteTime": {
     "end_time": "2020-02-04T05:03:11.249778Z",
     "start_time": "2020-02-04T05:03:11.245518Z"
    }
   },
   "outputs": [
    {
     "data": {
      "text/plain": [
       "(77517, 3699)"
      ]
     },
     "execution_count": 11,
     "metadata": {},
     "output_type": "execute_result"
    }
   ],
   "source": [
    "Ax.shape"
   ]
  },
  {
   "cell_type": "code",
   "execution_count": 13,
   "metadata": {
    "ExecuteTime": {
     "end_time": "2020-02-04T05:03:34.248162Z",
     "start_time": "2020-02-04T05:03:33.659895Z"
    }
   },
   "outputs": [
    {
     "data": {
      "text/plain": [
       "37059"
      ]
     },
     "execution_count": 13,
     "metadata": {},
     "output_type": "execute_result"
    }
   ],
   "source": [
    "sum(np.matmul(Ax, Dx) + np.matmul(Ay, Dy) - np.matmul(Iz, np.ones(3699)) <= b)"
   ]
  },
  {
   "cell_type": "code",
   "execution_count": null,
   "metadata": {
    "ExecuteTime": {
     "end_time": "2020-02-03T16:28:57.247637Z",
     "start_time": "2020-02-03T16:28:57.119146Z"
    }
   },
   "outputs": [],
   "source": []
  },
  {
   "cell_type": "code",
   "execution_count": null,
   "metadata": {
    "ExecuteTime": {
     "end_time": "2020-02-03T16:26:27.664498Z",
     "start_time": "2020-02-03T16:26:27.613823Z"
    }
   },
   "outputs": [],
   "source": []
  },
  {
   "cell_type": "code",
   "execution_count": null,
   "metadata": {},
   "outputs": [],
   "source": []
  }
 ],
 "metadata": {
  "kernelspec": {
   "display_name": "Python 3",
   "language": "python",
   "name": "python3"
  },
  "language_info": {
   "codemirror_mode": {
    "name": "ipython",
    "version": 3
   },
   "file_extension": ".py",
   "mimetype": "text/x-python",
   "name": "python",
   "nbconvert_exporter": "python",
   "pygments_lexer": "ipython3",
   "version": "3.7.4"
  },
  "toc": {
   "base_numbering": 1,
   "nav_menu": {},
   "number_sections": true,
   "sideBar": true,
   "skip_h1_title": false,
   "title_cell": "Table of Contents",
   "title_sidebar": "Contents",
   "toc_cell": false,
   "toc_position": {},
   "toc_section_display": true,
   "toc_window_display": false
  }
 },
 "nbformat": 4,
 "nbformat_minor": 4
}
