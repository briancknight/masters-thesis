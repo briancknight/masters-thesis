{
 "cells": [
  {
   "cell_type": "code",
   "execution_count": 5,
   "metadata": {
    "ExecuteTime": {
     "end_time": "2020-02-20T06:45:41.798693Z",
     "start_time": "2020-02-20T06:45:41.795730Z"
    }
   },
   "outputs": [],
   "source": [
    "import numpy as np\n",
    "import cvxpy as cvx\n",
    "from scipy import sparse"
   ]
  },
  {
   "cell_type": "code",
   "execution_count": 6,
   "metadata": {
    "ExecuteTime": {
     "end_time": "2020-02-20T06:45:42.989451Z",
     "start_time": "2020-02-20T06:45:42.986673Z"
    }
   },
   "outputs": [],
   "source": [
    "from imTools import *"
   ]
  },
  {
   "cell_type": "code",
   "execution_count": 7,
   "metadata": {
    "ExecuteTime": {
     "end_time": "2020-02-20T06:45:43.583167Z",
     "start_time": "2020-02-20T06:45:43.570712Z"
    }
   },
   "outputs": [],
   "source": [
    "# target = readImage('images/BrainProtonDensitySliceShifted13x17y.png', (100,100))\n",
    "# base = readImage('images/BrainT1Slice.png', (100,100))\n",
    "target = readImage('images/BrainProtonDensitySliceShifted13x17y.png', (50,50))\n",
    "base = readImage('images/BrainT1Slice.png', (50,50))"
   ]
  },
  {
   "cell_type": "code",
   "execution_count": 8,
   "metadata": {
    "ExecuteTime": {
     "end_time": "2020-02-20T06:45:44.263419Z",
     "start_time": "2020-02-20T06:45:44.138658Z"
    }
   },
   "outputs": [
    {
     "data": {
      "image/png": "[encoded data removed]",
      "text/plain": [
       "<Figure size 432x288 with 1 Axes>"
      ]
     },
     "metadata": {
      "needs_background": "light"
     },
     "output_type": "display_data"
    }
   ],
   "source": [
    "plt.imshow(target)\n",
    "plt.show()"
   ]
  },
  {
   "cell_type": "code",
   "execution_count": 9,
   "metadata": {
    "ExecuteTime": {
     "end_time": "2020-02-20T06:45:45.869312Z",
     "start_time": "2020-02-20T06:45:45.858464Z"
    }
   },
   "outputs": [],
   "source": [
    "from Taylor08 import *"
   ]
  },
  {
   "cell_type": "code",
   "execution_count": 10,
   "metadata": {
    "ExecuteTime": {
     "end_time": "2020-02-20T06:45:48.206662Z",
     "start_time": "2020-02-20T06:45:48.202176Z"
    }
   },
   "outputs": [],
   "source": [
    "px = np.random.random(19)*0.5\n",
    "py = np.random.random(19)*0.5\n",
    "p = np.concatenate((px,py), axis=0)"
   ]
  },
  {
   "cell_type": "code",
   "execution_count": 11,
   "metadata": {
    "ExecuteTime": {
     "end_time": "2020-02-20T06:45:49.813904Z",
     "start_time": "2020-02-20T06:45:49.338413Z"
    }
   },
   "outputs": [],
   "source": [
    "D = gaussianDeformImage(target, 10, 4, px, py)"
   ]
  },
  {
   "cell_type": "code",
   "execution_count": 12,
   "metadata": {
    "ExecuteTime": {
     "end_time": "2020-02-20T06:45:51.139177Z",
     "start_time": "2020-02-20T06:45:51.009522Z"
    }
   },
   "outputs": [
    {
     "data": {
      "image/png": "[encoded data removed]",
      "text/plain": [
       "<Figure size 432x288 with 1 Axes>"
      ]
     },
     "metadata": {
      "needs_background": "light"
     },
     "output_type": "display_data"
    }
   ],
   "source": [
    "plt.imshow(D)\n",
    "plt.show()"
   ]
  },
  {
   "cell_type": "code",
   "execution_count": 13,
   "metadata": {
    "ExecuteTime": {
     "end_time": "2020-02-20T06:46:06.208389Z",
     "start_time": "2020-02-20T06:45:53.802405Z"
    }
   },
   "outputs": [],
   "source": [
    "(dIm, Ax, Ay, Iz, b, Dx, Dy, C) = Taylor08(target, base, 10, px, py)"
   ]
  },
  {
   "cell_type": "code",
   "execution_count": 14,
   "metadata": {
    "ExecuteTime": {
     "end_time": "2020-02-20T06:46:07.168720Z",
     "start_time": "2020-02-20T06:46:07.016492Z"
    }
   },
   "outputs": [
    {
     "data": {
      "image/png": "[encoded data removed]",
      "text/plain": [
       "<Figure size 432x288 with 1 Axes>"
      ]
     },
     "metadata": {
      "needs_background": "light"
     },
     "output_type": "display_data"
    }
   ],
   "source": [
    "plt.imshow(dIm)\n",
    "plt.show()"
   ]
  },
  {
   "cell_type": "code",
   "execution_count": 15,
   "metadata": {
    "ExecuteTime": {
     "end_time": "2020-02-20T06:46:10.116561Z",
     "start_time": "2020-02-20T06:46:10.112013Z"
    }
   },
   "outputs": [
    {
     "data": {
      "text/plain": [
       "(52019, 2500)"
      ]
     },
     "execution_count": 15,
     "metadata": {},
     "output_type": "execute_result"
    }
   ],
   "source": [
    "Ax.shape"
   ]
  },
  {
   "cell_type": "code",
   "execution_count": 16,
   "metadata": {
    "ExecuteTime": {
     "end_time": "2020-02-20T06:46:11.771763Z",
     "start_time": "2020-02-20T06:46:11.760309Z"
    }
   },
   "outputs": [],
   "source": [
    "z = np.ones(Ax.shape[1])\n",
    "A = (Ax @ C @ px) + (Ay @ C @ py) - Iz@z"
   ]
  },
  {
   "cell_type": "code",
   "execution_count": 17,
   "metadata": {
    "ExecuteTime": {
     "end_time": "2020-02-20T06:46:13.547115Z",
     "start_time": "2020-02-20T06:46:13.536341Z"
    }
   },
   "outputs": [],
   "source": [
    "s = b - A\n",
    "d = sparse.diags(s**(-1))\n",
    "d2 = d**2"
   ]
  },
  {
   "cell_type": "code",
   "execution_count": 18,
   "metadata": {
    "ExecuteTime": {
     "end_time": "2020-02-20T06:46:14.463585Z",
     "start_time": "2020-02-20T06:46:14.448061Z"
    }
   },
   "outputs": [],
   "source": [
    "D1 = Ax.T @ d2 @ Ax\n",
    "D2 = Ay.T @ d2 @ Ax\n",
    "D3 = Ay.T @ d2 @ Ay\n",
    "D4 = Iz.T @ d2 @ Ax\n",
    "D5 = Iz.T @ d2 @ Ay\n",
    "D6 = Iz.T @ d2 @ Iz\n",
    "# With no lower / upper bounds on Dx, Dy"
   ]
  },
  {
   "cell_type": "code",
   "execution_count": null,
   "metadata": {
    "ExecuteTime": {
     "end_time": "2020-02-19T23:50:57.198409Z",
     "start_time": "2020-02-19T23:50:57.194037Z"
    }
   },
   "outputs": [],
   "source": []
  },
  {
   "cell_type": "code",
   "execution_count": 19,
   "metadata": {
    "ExecuteTime": {
     "end_time": "2020-02-20T06:46:16.479435Z",
     "start_time": "2020-02-20T06:46:16.471988Z"
    }
   },
   "outputs": [],
   "source": [
    "# Constructs Hp\n",
    "Hpx = C.T@D1@C\n",
    "Hpxpy = C.T @ D2 @ C\n",
    "Hpy = C.T@D3@C\n",
    "\n",
    "Hp1 = np.concatenate((Hpx, Hpxpy), axis = 1)\n",
    "Hp2 = np.concatenate((Hpxpy, Hpy), axis = 1)\n",
    "Hp = np.concatenate((Hp1, Hp2), axis = 0)"
   ]
  },
  {
   "cell_type": "code",
   "execution_count": 20,
   "metadata": {
    "ExecuteTime": {
     "end_time": "2020-02-20T06:46:17.268204Z",
     "start_time": "2020-02-20T06:46:17.263863Z"
    }
   },
   "outputs": [],
   "source": [
    "# Construct Hz\n",
    "Hz1 = D4 @ C\n",
    "Hz2 = D5 @ C\n",
    "\n",
    "Hz = np.concatenate((Hz1, Hz2), axis = 1)"
   ]
  },
  {
   "cell_type": "code",
   "execution_count": 21,
   "metadata": {
    "ExecuteTime": {
     "end_time": "2020-02-20T06:46:18.150387Z",
     "start_time": "2020-02-20T06:46:18.136668Z"
    }
   },
   "outputs": [],
   "source": [
    "gz = -1 * Iz.T@s**(-1)\n",
    "gpx = -1 * C.T@Ax.T@s**(-1)\n",
    "gpy = -1 * C.T@Ay.T@s**(-1)\n",
    "gp = np.concatenate((gpx, gpy), axis = 0)"
   ]
  },
  {
   "cell_type": "code",
   "execution_count": 22,
   "metadata": {
    "ExecuteTime": {
     "end_time": "2020-02-20T06:46:19.027880Z",
     "start_time": "2020-02-20T06:46:19.023889Z"
    }
   },
   "outputs": [
    {
     "data": {
      "text/plain": [
       "(38, 38)"
      ]
     },
     "execution_count": 22,
     "metadata": {},
     "output_type": "execute_result"
    }
   ],
   "source": [
    "Hp.shape"
   ]
  },
  {
   "cell_type": "code",
   "execution_count": 23,
   "metadata": {
    "ExecuteTime": {
     "end_time": "2020-02-20T06:46:19.823887Z",
     "start_time": "2020-02-20T06:46:19.808021Z"
    }
   },
   "outputs": [],
   "source": [
    "def TaylorNewtonStep(Ax, Ay, Iz, b, s, d, d2, p, z):    \n",
    "    \"\"\" \n",
    "    *CURRENTLY BROKEN**\n",
    "\n",
    "    With each iteration we are seeking to minimize \n",
    "    t 1.T@z - sum[ log(b - AxCpx - (Ay @ C @ py)  + (Iz @ z)) ]\n",
    "\n",
    "    \"\"\"\n",
    "    # Line Search Parameters:\n",
    "    alpha = 0.01\n",
    "    beta = 0.8\n",
    "    eps = 10\n",
    "    maxiters = 100\n",
    "    count = 0\n",
    "    \n",
    "    # Convex Approximation & Deformation Parameters\n",
    "    window = 10\n",
    "    k = 4 # 16 kernels\n",
    "    sigma = 10\n",
    "    \n",
    "    \n",
    "    for iter in range(maxiters):\n",
    "        count += 1\n",
    "        (Ax, Ay, Iz, b, Dx, Dy, C) = getConstraintCoeffs2(target, base, window, k, sigma, p[:19], p[19:])\n",
    "        L = Ax.shape[1]\n",
    "        A = (Ax @ C @ px) + (Ay @ C @ py) - Iz@z\n",
    "\n",
    "        s = b - A\n",
    "        print(s)\n",
    "        d = sparse.diags(s**(-1))\n",
    "        d2 = d**2\n",
    "        (Hp, Hz, D6) = getHessians(Ax, Ay, Iz, C, d2)\n",
    "        \n",
    "        gpx = -1 * C.T@Ax.T@s**(-1)\n",
    "        gpy = -1 * C.T@Ay.T@s**(-1)\n",
    "        gp = np.concatenate((gpx, gpy), axis = 0)\n",
    "        gz = -1 * Iz.T@s**(-1)\n",
    "        g = np.concatenate((gp, gz), axis = 0)\n",
    "#         print(g)\n",
    "        Dinv = sparse.linalg.inv(D6)\n",
    "        \n",
    "        dp = np.linalg.solve(Hp - Hz.T @ Dinv @ Hz, gp - Hz.T @ Dinv @ gz)\n",
    "#         print(dp)\n",
    "        dz = sparse.linalg.inv(D6)@(gz - Hz @ dp)\n",
    "        delta = np.concatenate((dp, dz), axis = 0)\n",
    "        \n",
    "        lambdasqr = g.T @ delta #-1*g.T @ delta\n",
    "#         print(lambdasqr)\n",
    "        \n",
    "        if lambdasqr/2 < eps:\n",
    "            break\n",
    "            \n",
    "        # otherwise perform line search:\n",
    "        t = 1\n",
    "\n",
    "        while  (t * np.ones(len(dz)).T @ dz - np.sum( np.log( b - (Ax@C@(p + t * dp)[:19]) - (Ay @ C @ (p + t * dp)[19:]) + Iz@(z + dz))) - alpha * t * (gz.T @ dz) > 0):\n",
    "            t = beta * t\n",
    "            \n",
    "        p += t * dp\n",
    "        z += t * dz\n",
    "        print(p)\n",
    "    if count == maxiters:\n",
    "        print('ERROR: MAXITERS reached.\\n')\n",
    "        p = 0\n",
    "    \n",
    "    return p\n",
    "    "
   ]
  },
  {
   "cell_type": "code",
   "execution_count": null,
   "metadata": {
    "ExecuteTime": {
     "start_time": "2020-02-20T06:43:20.386Z"
    }
   },
   "outputs": [],
   "source": [
    "p1 = np.random.rand(38)\n",
    "z = z = 50*np.ones(Ax.shape[1])\n",
    "p = TaylorNewtonStep(Ax, Ay, Iz, b, s, d, d2, p1, z)"
   ]
  },
  {
   "cell_type": "code",
   "execution_count": null,
   "metadata": {
    "ExecuteTime": {
     "start_time": "2020-02-20T06:43:20.386Z"
    }
   },
   "outputs": [],
   "source": [
    "z = 50*np.ones(Ax.shape[1])\n",
    "t = 1\n",
    "b - (Ax@C@p[:19]) - (Ay @ C @ p[19:]) + Iz@z"
   ]
  },
  {
   "cell_type": "code",
   "execution_count": null,
   "metadata": {
    "ExecuteTime": {
     "start_time": "2020-02-20T06:46:54.398Z"
    }
   },
   "outputs": [],
   "source": [
    "window = 10\n",
    "k = 4 # 16 kernels\n",
    "sigma = 10\n",
    "\n",
    "(Ax, Ay, Iz, b, Dx, Dy, C) = getConstraintCoeffs2(target, base, window, k, sigma, p[:19], p[19:])"
   ]
  },
  {
   "cell_type": "code",
   "execution_count": null,
   "metadata": {
    "ExecuteTime": {
     "end_time": "2020-02-20T02:07:31.789088Z",
     "start_time": "2020-02-20T02:07:31.785606Z"
    }
   },
   "outputs": [],
   "source": []
  },
  {
   "cell_type": "code",
   "execution_count": null,
   "metadata": {},
   "outputs": [],
   "source": []
  }
 ],
 "metadata": {
  "kernelspec": {
   "display_name": "Python 3",
   "language": "python",
   "name": "python3"
  },
  "language_info": {
   "codemirror_mode": {
    "name": "ipython",
    "version": 3
   },
   "file_extension": ".py",
   "mimetype": "text/x-python",
   "name": "python",
   "nbconvert_exporter": "python",
   "pygments_lexer": "ipython3",
   "version": "3.7.4"
  },
  "toc": {
   "base_numbering": 1,
   "nav_menu": {},
   "number_sections": true,
   "sideBar": true,
   "skip_h1_title": false,
   "title_cell": "Table of Contents",
   "title_sidebar": "Contents",
   "toc_cell": false,
   "toc_position": {},
   "toc_section_display": true,
   "toc_window_display": false
  }
 },
 "nbformat": 4,
 "nbformat_minor": 4
}
