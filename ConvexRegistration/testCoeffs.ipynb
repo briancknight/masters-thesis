{
 "cells": [
  {
   "cell_type": "code",
   "execution_count": 1,
   "metadata": {
    "ExecuteTime": {
     "end_time": "2020-02-24T02:08:37.382933Z",
     "start_time": "2020-02-24T02:08:37.190028Z"
    }
   },
   "outputs": [],
   "source": [
    "import numpy as np\n",
    "import cvxpy as cvx\n",
    "from scipy import sparse"
   ]
  },
  {
   "cell_type": "code",
   "execution_count": 2,
   "metadata": {
    "ExecuteTime": {
     "end_time": "2020-02-24T02:08:37.748672Z",
     "start_time": "2020-02-24T02:08:37.385127Z"
    }
   },
   "outputs": [],
   "source": [
    "from imTools import *"
   ]
  },
  {
   "cell_type": "code",
   "execution_count": 3,
   "metadata": {
    "ExecuteTime": {
     "end_time": "2020-02-24T02:08:37.774252Z",
     "start_time": "2020-02-24T02:08:37.750809Z"
    }
   },
   "outputs": [],
   "source": [
    "# target = readImage('images/BrainProtonDensitySliceShifted13x17y.png', (100,100))\n",
    "# base = readImage('images/BrainT1Slice.png', (100,100))\n",
    "target = readImage('images/BrainProtonDensitySliceShifted13x17y.png', (75,75))\n",
    "base = readImage('images/BrainT1Slice.png', (75,75))\n",
    "(m, n, _) = base.shape"
   ]
  },
  {
   "cell_type": "code",
   "execution_count": 4,
   "metadata": {
    "ExecuteTime": {
     "end_time": "2020-02-24T02:08:37.929628Z",
     "start_time": "2020-02-24T02:08:37.775759Z"
    }
   },
   "outputs": [
    {
     "data": {
      "image/png": "[encoded data removed]",
      "text/plain": [
       "<Figure size 432x288 with 1 Axes>"
      ]
     },
     "metadata": {
      "needs_background": "light"
     },
     "output_type": "display_data"
    }
   ],
   "source": [
    "plt.imshow(target)\n",
    "plt.show()"
   ]
  },
  {
   "cell_type": "code",
   "execution_count": 5,
   "metadata": {
    "ExecuteTime": {
     "end_time": "2020-02-24T02:08:37.938821Z",
     "start_time": "2020-02-24T02:08:37.932052Z"
    }
   },
   "outputs": [
    {
     "ename": "SyntaxError",
     "evalue": "invalid syntax (Taylor08.py, line 40)",
     "output_type": "error",
     "traceback": [
      "Traceback \u001b[0;36m(most recent call last)\u001b[0m:\n",
      "  File \u001b[1;32m\"/usr/local/Cellar/ipython/7.4.0/libexec/lib/python3.7/site-packages/IPython/core/interactiveshell.py\"\u001b[0m, line \u001b[1;32m3296\u001b[0m, in \u001b[1;35mrun_code\u001b[0m\n    exec(code_obj, self.user_global_ns, self.user_ns)\n",
      "\u001b[0;36m  File \u001b[0;32m\"<ipython-input-5-1c5755567428>\"\u001b[0;36m, line \u001b[0;32m1\u001b[0;36m, in \u001b[0;35m<module>\u001b[0;36m\u001b[0m\n\u001b[0;31m    from Taylor08 import *\u001b[0m\n",
      "\u001b[0;36m  File \u001b[0;32m\"/Users/brknight/Documents/GitHub/masters-thesis/ConvexRegistration/Taylor08.py\"\u001b[0;36m, line \u001b[0;32m40\u001b[0m\n\u001b[0;31m    defomredIm = firstOrderDeformImage(base, px py)\u001b[0m\n\u001b[0m                                                 ^\u001b[0m\n\u001b[0;31mSyntaxError\u001b[0m\u001b[0;31m:\u001b[0m invalid syntax\n"
     ]
    }
   ],
   "source": [
    "from Taylor08 import *"
   ]
  },
  {
   "cell_type": "code",
   "execution_count": null,
   "metadata": {
    "ExecuteTime": {
     "end_time": "2020-02-24T02:08:37.942205Z",
     "start_time": "2020-02-24T02:08:37.194Z"
    }
   },
   "outputs": [],
   "source": [
    "px = np.random.random(19)*0.5\n",
    "py = np.random.random(19)*0.5\n",
    "p = np.concatenate((px,py), axis=0)"
   ]
  },
  {
   "cell_type": "code",
   "execution_count": null,
   "metadata": {
    "ExecuteTime": {
     "end_time": "2020-02-24T02:08:37.943642Z",
     "start_time": "2020-02-24T02:08:37.196Z"
    }
   },
   "outputs": [],
   "source": [
    "D = gaussianDeformImage(base, 10, 4, px, py)"
   ]
  },
  {
   "cell_type": "code",
   "execution_count": null,
   "metadata": {
    "ExecuteTime": {
     "end_time": "2020-02-24T02:08:37.945292Z",
     "start_time": "2020-02-24T02:08:37.200Z"
    }
   },
   "outputs": [],
   "source": [
    "plt.imshow(D)\n",
    "plt.show()"
   ]
  },
  {
   "cell_type": "code",
   "execution_count": null,
   "metadata": {
    "ExecuteTime": {
     "end_time": "2020-02-24T02:08:37.946698Z",
     "start_time": "2020-02-24T02:08:37.203Z"
    }
   },
   "outputs": [],
   "source": [
    "(dIm, Ax, Ay, Iz, b, Dx, Dy, C) = Taylor08(target, base, 4, px, py)"
   ]
  },
  {
   "cell_type": "code",
   "execution_count": null,
   "metadata": {
    "ExecuteTime": {
     "end_time": "2020-02-24T02:08:37.948002Z",
     "start_time": "2020-02-24T02:08:37.205Z"
    }
   },
   "outputs": [],
   "source": [
    "plt.imshow(dIm)\n",
    "plt.show()"
   ]
  },
  {
   "cell_type": "code",
   "execution_count": null,
   "metadata": {
    "ExecuteTime": {
     "end_time": "2020-02-24T02:08:37.949496Z",
     "start_time": "2020-02-24T02:08:37.210Z"
    }
   },
   "outputs": [],
   "source": [
    "z = cvx.Variable(m*n)\n",
    "obj = cvx.Minimize(sum(z))\n",
    "constraints = [(Ax @ C @ px) + (Ay @ C @ py) - Iz@z <= b]\n",
    "prob = cvx.Problem(obj, constraints)\n",
    "result = prob.solve()"
   ]
  },
  {
   "cell_type": "code",
   "execution_count": null,
   "metadata": {
    "ExecuteTime": {
     "end_time": "2020-02-24T02:08:37.951040Z",
     "start_time": "2020-02-24T02:08:37.211Z"
    }
   },
   "outputs": [],
   "source": [
    "A = (Ax @ C @ px) + (Ay @ C @ py) - Iz@(z.value)\n",
    "s = b - A + 1/(10)**8\n",
    "d = sparse.diags(s**(-1))\n",
    "d2 = d**2"
   ]
  },
  {
   "cell_type": "code",
   "execution_count": null,
   "metadata": {
    "ExecuteTime": {
     "end_time": "2020-02-24T02:08:37.952622Z",
     "start_time": "2020-02-24T02:08:37.214Z"
    }
   },
   "outputs": [],
   "source": [
    "D1 = Ax.T @ d2 @ Ax\n",
    "D2 = Ay.T @ d2 @ Ax\n",
    "D3 = Ay.T @ d2 @ Ay\n",
    "D4 = Iz.T @ d2 @ Ax\n",
    "D5 = Iz.T @ d2 @ Ay\n",
    "D6 = Iz.T @ d2 @ Iz\n",
    "# With no lower / upper bounds on Dx, Dy"
   ]
  },
  {
   "cell_type": "code",
   "execution_count": null,
   "metadata": {
    "ExecuteTime": {
     "end_time": "2020-02-24T02:08:37.954047Z",
     "start_time": "2020-02-24T02:08:37.215Z"
    }
   },
   "outputs": [],
   "source": [
    "# Constructs Hp\n",
    "Hpx = C.T@D1@C\n",
    "Hpxpy = C.T @ D2 @ C\n",
    "Hpy = C.T@D3@C\n",
    "\n",
    "Hp1 = np.concatenate((Hpx, Hpxpy), axis = 1)\n",
    "Hp2 = np.concatenate((Hpxpy, Hpy), axis = 1)\n",
    "Hp = np.concatenate((Hp1, Hp2), axis = 0)"
   ]
  },
  {
   "cell_type": "code",
   "execution_count": null,
   "metadata": {
    "ExecuteTime": {
     "end_time": "2020-02-24T02:08:37.956054Z",
     "start_time": "2020-02-24T02:08:37.217Z"
    }
   },
   "outputs": [],
   "source": [
    "# Construct Hz\n",
    "Hz1 = D4 @ C\n",
    "Hz2 = D5 @ C\n",
    "\n",
    "Hz = np.concatenate((Hz1, Hz2), axis = 1)"
   ]
  },
  {
   "cell_type": "code",
   "execution_count": null,
   "metadata": {
    "ExecuteTime": {
     "end_time": "2020-02-24T02:08:37.958823Z",
     "start_time": "2020-02-24T02:08:37.218Z"
    }
   },
   "outputs": [],
   "source": [
    "tau = 1\n",
    "gz = tau - Iz.T@s**(-1)\n",
    "gpx =  -1 * C.T@Ax.T@s**(-1)\n",
    "gpy =  -1 * C.T@Ay.T@s**(-1)\n",
    "gp = np.concatenate((gpx, gpy), axis = 0)\n",
    "g = np.concatenate((gp, gz), axis = 0)\n",
    "Dinv = sparse.linalg.inv(D6)\n",
    "\n",
    "dp = np.linalg.solve(Hp - Hz.T @ Dinv @ Hz, gp - Hz.T @ Dinv @ gz)\n",
    "dz = sparse.linalg.inv(D6)@(gz - Hz @ dp)\n",
    "delta = np.concatenate((dp, dz), axis = 0)\n",
    "\n",
    "lambdasqr = -1 * g.T @ delta"
   ]
  },
  {
   "cell_type": "code",
   "execution_count": null,
   "metadata": {
    "ExecuteTime": {
     "end_time": "2020-02-24T02:08:37.960714Z",
     "start_time": "2020-02-24T02:08:37.220Z"
    }
   },
   "outputs": [],
   "source": [
    "p + dp\n",
    "im = gaussianDeformImage(base, 10, 4, (p + dp)[:19], (p + dp)[19:])\n",
    "plt.imshow(im)\n",
    "plt.show()\n",
    "# (im, Ax, Ay, Iz, b, Dx, Dy, C) = getConstraintCoeffs2(target, base, 10, 4, 4, (p + dp)[:19], (p + dp)[19:])"
   ]
  },
  {
   "cell_type": "code",
   "execution_count": null,
   "metadata": {
    "ExecuteTime": {
     "end_time": "2020-02-24T02:08:37.962608Z",
     "start_time": "2020-02-24T02:08:37.223Z"
    }
   },
   "outputs": [],
   "source": [
    "for i in range(10):\n",
    "    \n",
    "    (im, Ax, Ay, Iz, b, Dx, Dy, C) = getConstraintCoeffs2(target, base, 10, 4, 10, p[:19], p[19:])\n",
    "    plt.imshow(im)\n",
    "    plt.show()\n",
    "    \n",
    "    tau = 10 * (i+1)\n",
    "    \n",
    "    print(\"Minimizing z...\")\n",
    "    ztime = time.time()\n",
    "    z = cvx.Variable(m*n)\n",
    "    obj = cvx.Minimize(sum(tau * z))\n",
    "    constraints = [(Ax @ C @ p[:19]) + (Ay @ C @ p[19:]) - Iz@(tau * z) <= b]\n",
    "    prob = cvx.Problem(obj, constraints)\n",
    "    result = prob.solve()\n",
    "    print(\"Done. Time elapsed: \", time.time() - ztime, \"\\n\\n\")\n",
    "    \n",
    "    A = (Ax @ C @ px) + (Ay @ C @ py) - Iz@(z.value)\n",
    "    s = b - A + 1/(10)**8\n",
    "    d = sparse.diags(s**(-1))\n",
    "    d2 = d**2\n",
    "\n",
    "    (Hp, Hz, D6) = getHessians(Ax, Ay, Iz, C, d2)\n",
    "\n",
    "    tau = 1\n",
    "    gz = tau - Iz.T@s**(-1)\n",
    "    gpx =  -1 * C.T@Ax.T@s**(-1)\n",
    "    gpy =  -1 * C.T@Ay.T@s**(-1)\n",
    "    gp = np.concatenate((gpx, gpy), axis = 0)\n",
    "    g = np.concatenate((gp, gz), axis = 0)\n",
    "    Dinv = sparse.linalg.inv(D6)\n",
    "\n",
    "    dp = np.linalg.solve(Hp - Hz.T @ Dinv @ Hz, gp - Hz.T @ Dinv @ gz)\n",
    "    dz = sparse.linalg.inv(D6)@(gz - Hz @ dp)\n",
    "    delta = np.concatenate((dp, dz), axis = 0)\n",
    "    \n",
    "    p += dp\n",
    "    print(p)\n"
   ]
  },
  {
   "cell_type": "code",
   "execution_count": null,
   "metadata": {
    "ExecuteTime": {
     "end_time": "2020-02-24T02:08:37.964321Z",
     "start_time": "2020-02-24T02:08:37.224Z"
    }
   },
   "outputs": [],
   "source": [
    "def TaylorNewtonStep(Ax, Ay, Iz, b, s, d, d2, p, tau):    \n",
    "    \"\"\" \n",
    "    *CURRENTLY BROKEN**\n",
    "\n",
    "    With each iteration we are seeking to minimize \n",
    "    t 1.T@z - sum[ log(b - AxCpx - (Ay @ C @ py)  + (Iz @ z)) ]\n",
    "\n",
    "    \"\"\"\n",
    "    # Line Search Parameters:\n",
    "    alpha = 0.01\n",
    "    beta = 0.8\n",
    "    eps = 1000\n",
    "    maxiters = 100\n",
    "    count = 0\n",
    "    \n",
    "    # Convex Approximation & Deformation Parameters\n",
    "    window = 3 # This is too small\n",
    "    k = 4 # 16 kernels\n",
    "    sigma = 10\n",
    "    \n",
    "    \n",
    "    for iter in range(maxiters):\n",
    "        count += 1\n",
    "        (im, Ax, Ay, Iz, b, Dx, Dy, C) = getConstraintCoeffs2(target, base, window, k, sigma, p[:19], p[19:])\n",
    "        \n",
    "        # minimize z\n",
    "        z = cvx.Variable(m*n)\n",
    "        obj = cvx.Minimize(sum(z))\n",
    "        # A = (Ax @ C @ px) + (Ay @ C @ py) - Iz@z\n",
    "        constraints = [(Ax @ C @ px) + (Ay @ C @ py) - Iz@z <= b]\n",
    "        prob = cvx.Problem(obj, constraints)\n",
    "        result = prob.solve()\n",
    "        \n",
    "        A = (Ax @ C @ p[:19]) + (Ay @ C @ p[19:]) - Iz@(z.value)\n",
    "\n",
    "        s = b - A + 1/(10)**8\n",
    "#         print(s)\n",
    "        d = sparse.diags(s**(-1))\n",
    "        d2 = d**2\n",
    "        (Hp, Hz, D6) = getHessians(Ax, Ay, Iz, C, d2)\n",
    "        \n",
    "        # Check if these are the correct gradients...\n",
    "        gpx = C.T@Ax.T@s**(-1) \n",
    "        gpy = C.T@Ay.T@s**(-1)\n",
    "        gp = np.concatenate((gpx, gpy), axis = 0)\n",
    "        gz = tau * np.ones(m*n) - Iz.T@s**(-1)\n",
    "        g = np.concatenate((gp, gz), axis = 0)\n",
    "#         print(g)\n",
    "        Dinv = sparse.linalg.inv(D6)\n",
    "        \n",
    "        dp = np.linalg.solve(Hp - Hz.T @ Dinv @ Hz, gp - Hz.T @ Dinv @ gz)\n",
    "#         print(dp)\n",
    "        dz = sparse.linalg.inv(D6)@(gz - Hz @ dp)\n",
    "        delta = np.concatenate((dp, dz), axis = 0)\n",
    "        \n",
    "        lambdasqr = -1*gp.T @ dp\n",
    "        print(lambdasqr)\n",
    "        \n",
    "        if lambdasqr/2 < eps:\n",
    "            break\n",
    "            \n",
    "        # otherwise perform line search in z (make sure step is valid?):\n",
    "        t = 1\n",
    "        \n",
    "        while sum((Ax @ C @ p[:19]) + (Ay @ C @ p[19:]) - Iz@(z.value + t * dz) - b < 0) != 0:\n",
    "            t = beta * t\n",
    "            \n",
    "        while  tau * (t * np.ones(len(dz)).T @ dz - np.sum( np.log( b - (Ax@C@(p + t * dp)[:19]) - (Ay @ C @ (p + t * dp)[19:]) + Iz@(z + dz))) - alpha * t * (gz.T @ dz) > 0):\n",
    "            t = beta * t\n",
    "            \n",
    "        p += t * dp\n",
    "#         z += t * dz\n",
    "#         print(p)\n",
    "    if count == maxiters:\n",
    "        print('ERROR: MAXITERS reached.\\n')\n",
    "        p = 0\n",
    "    \n",
    "    return p\n",
    "    "
   ]
  },
  {
   "cell_type": "code",
   "execution_count": null,
   "metadata": {
    "ExecuteTime": {
     "end_time": "2020-02-24T02:08:37.965843Z",
     "start_time": "2020-02-24T02:08:37.227Z"
    }
   },
   "outputs": [],
   "source": [
    "p1 = TaylorNewtonStep(Ax, Ay, Iz, b, s, d, d2, p, 1)"
   ]
  },
  {
   "cell_type": "code",
   "execution_count": null,
   "metadata": {
    "ExecuteTime": {
     "end_time": "2020-02-24T02:08:37.967576Z",
     "start_time": "2020-02-24T02:08:37.227Z"
    }
   },
   "outputs": [],
   "source": [
    "def TaylorNewtonStepTest(Ax, Ay, Iz, C, b, s, d, d2, p, tau):    \n",
    "    \"\"\" \n",
    "    *CURRENTLY BROKEN**\n",
    "\n",
    "    With each iteration we are seeking to minimize \n",
    "    t 1.T@z - sum[ log(b - AxCpx - (Ay @ C @ py)  + (Iz @ z)) ]\n",
    "    This is trash 02/21/20\n",
    "    \"\"\"\n",
    "    # Line Search Parameters:\n",
    "    alpha = 0.01\n",
    "    beta = 0.8\n",
    "    eps = 1000\n",
    "    maxiters = 100\n",
    "    count = 0\n",
    "    \n",
    "    # Convex Approximation & Deformation Parameters\n",
    "    window = 3 # This is too small\n",
    "    k = 4 # 16 kernels\n",
    "    sigma = 3\n",
    "    \n",
    "    \n",
    "    for iter in range(10):\n",
    "        count += 1\n",
    "        # minimize z\n",
    "        z = cvx.Variable(m*n)\n",
    "        obj = cvx.Minimize(sum(z))\n",
    "        # A = (Ax @ C @ px) + (Ay @ C @ py) - Iz@z\n",
    "        constraints = [(Ax @ C @ px) + (Ay @ C @ py) - Iz@z <= b]\n",
    "        prob = cvx.Problem(obj, constraints)\n",
    "        result = prob.solve()\n",
    "        \n",
    "        A = (Ax @ C @ p[:19]) + (Ay @ C @ p[19:]) - Iz@(z.value)\n",
    "\n",
    "        s = (b - A) + 1/(10)**8\n",
    "        d = sparse.diags(s**(-1))\n",
    "        d2 = d**2\n",
    "        (Hp, Hz, D6) = getHessians(Ax, Ay, Iz, C, d2)\n",
    " \n",
    "        # Check if these are the correct gradients...\n",
    "        gpx = C.T@Ax.T@s**(-1) \n",
    "        gpy = C.T@Ay.T@s**(-1)\n",
    "        gp = np.concatenate((gpx, gpy), axis = 0)\n",
    "        gz = tau - Iz.T@s**(-1)\n",
    "        # g = np.concatenate((gp, gz), axis = 0)\n",
    "        \n",
    "        Dinv = sparse.linalg.inv(D6)\n",
    "        dp = np.linalg.solve(Hp - Hz.T @ Dinv @ Hz, gp - Hz.T @ Dinv @ gz)\n",
    "        dz = sparse.linalg.inv(D6)@(gz - Hz @ dp)\n",
    "        print(dp)\n",
    "        delta = np.concatenate((dp, dz), axis = 0)\n",
    "        \n",
    "        lambdasqr = -1 * gp.T @ dp #-1*g.T @ delta\n",
    "        \n",
    "        print(lambdasqr)\n",
    "        \n",
    "        if lambdasqr/2 < eps:\n",
    "            break\n",
    "        \n",
    "        # otherwise perform line search in z (make sure step is valid?):\n",
    "        t = 1\n",
    "        \n",
    "        while sum((Ax @ C @ p[:19]) + (Ay @ C @ p[19:]) - Iz@(z.value + t * dz) - b < 0) != 0:\n",
    "            t = beta * t\n",
    "            \n",
    "            \n",
    "        p += dp    \n",
    "    return p"
   ]
  },
  {
   "cell_type": "code",
   "execution_count": null,
   "metadata": {
    "ExecuteTime": {
     "end_time": "2020-02-24T02:08:37.969204Z",
     "start_time": "2020-02-24T02:08:37.230Z"
    }
   },
   "outputs": [],
   "source": [
    "p1 = TaylorNewtonStepTest(Ax, Ay, Iz, C, b, s, d, d2, p, 10)"
   ]
  },
  {
   "cell_type": "code",
   "execution_count": null,
   "metadata": {
    "ExecuteTime": {
     "end_time": "2020-02-24T02:08:37.970693Z",
     "start_time": "2020-02-24T02:08:37.231Z"
    }
   },
   "outputs": [],
   "source": [
    "p = p2\n",
    "p"
   ]
  },
  {
   "cell_type": "code",
   "execution_count": 6,
   "metadata": {
    "ExecuteTime": {
     "end_time": "2020-02-24T02:32:47.318995Z",
     "start_time": "2020-02-24T02:32:47.288352Z"
    }
   },
   "outputs": [],
   "source": [
    "a1 = np.random.rand(14).tolist()\n",
    "a2 = np.random.rand(18).tolist()"
   ]
  },
  {
   "cell_type": "code",
   "execution_count": 11,
   "metadata": {
    "ExecuteTime": {
     "end_time": "2020-02-24T02:35:20.226731Z",
     "start_time": "2020-02-24T02:35:20.180632Z"
    }
   },
   "outputs": [
    {
     "ename": "ValueError",
     "evalue": "index pointer size (15) should be (33)",
     "output_type": "error",
     "traceback": [
      "\u001b[0;31m---------------------------------------------------------------------------\u001b[0m",
      "\u001b[0;31mValueError\u001b[0m                                Traceback (most recent call last)",
      "\u001b[0;32m<ipython-input-11-f546a0321907>\u001b[0m in \u001b[0;36m<module>\u001b[0;34m\u001b[0m\n\u001b[0;32m----> 1\u001b[0;31m \u001b[0msparse\u001b[0m\u001b[0;34m.\u001b[0m\u001b[0mcsc_matrix\u001b[0m\u001b[0;34m(\u001b[0m\u001b[0ma1\u001b[0m\u001b[0;34m,\u001b[0m \u001b[0mshape\u001b[0m\u001b[0;34m=\u001b[0m\u001b[0;34m(\u001b[0m\u001b[0;36m14\u001b[0m\u001b[0;34m+\u001b[0m\u001b[0;36m18\u001b[0m\u001b[0;34m,\u001b[0m \u001b[0;36m14\u001b[0m\u001b[0;34m+\u001b[0m\u001b[0;36m18\u001b[0m\u001b[0;34m)\u001b[0m\u001b[0;34m)\u001b[0m\u001b[0;34m\u001b[0m\u001b[0;34m\u001b[0m\u001b[0m\n\u001b[0m",
      "\u001b[0;32m/usr/local/lib/python3.7/site-packages/scipy/sparse/compressed.py\u001b[0m in \u001b[0;36m__init__\u001b[0;34m(self, arg1, shape, dtype, copy)\u001b[0m\n\u001b[1;32m    101\u001b[0m             \u001b[0mself\u001b[0m\u001b[0;34m.\u001b[0m\u001b[0mdata\u001b[0m \u001b[0;34m=\u001b[0m \u001b[0mnp\u001b[0m\u001b[0;34m.\u001b[0m\u001b[0masarray\u001b[0m\u001b[0;34m(\u001b[0m\u001b[0mself\u001b[0m\u001b[0;34m.\u001b[0m\u001b[0mdata\u001b[0m\u001b[0;34m,\u001b[0m \u001b[0mdtype\u001b[0m\u001b[0;34m=\u001b[0m\u001b[0mdtype\u001b[0m\u001b[0;34m)\u001b[0m\u001b[0;34m\u001b[0m\u001b[0;34m\u001b[0m\u001b[0m\n\u001b[1;32m    102\u001b[0m \u001b[0;34m\u001b[0m\u001b[0m\n\u001b[0;32m--> 103\u001b[0;31m         \u001b[0mself\u001b[0m\u001b[0;34m.\u001b[0m\u001b[0mcheck_format\u001b[0m\u001b[0;34m(\u001b[0m\u001b[0mfull_check\u001b[0m\u001b[0;34m=\u001b[0m\u001b[0;32mFalse\u001b[0m\u001b[0;34m)\u001b[0m\u001b[0;34m\u001b[0m\u001b[0;34m\u001b[0m\u001b[0m\n\u001b[0m\u001b[1;32m    104\u001b[0m \u001b[0;34m\u001b[0m\u001b[0m\n\u001b[1;32m    105\u001b[0m     \u001b[0;32mdef\u001b[0m \u001b[0mgetnnz\u001b[0m\u001b[0;34m(\u001b[0m\u001b[0mself\u001b[0m\u001b[0;34m,\u001b[0m \u001b[0maxis\u001b[0m\u001b[0;34m=\u001b[0m\u001b[0;32mNone\u001b[0m\u001b[0;34m)\u001b[0m\u001b[0;34m:\u001b[0m\u001b[0;34m\u001b[0m\u001b[0;34m\u001b[0m\u001b[0m\n",
      "\u001b[0;32m/usr/local/lib/python3.7/site-packages/scipy/sparse/compressed.py\u001b[0m in \u001b[0;36mcheck_format\u001b[0;34m(self, full_check)\u001b[0m\n\u001b[1;32m    165\u001b[0m         \u001b[0;32mif\u001b[0m \u001b[0;34m(\u001b[0m\u001b[0mlen\u001b[0m\u001b[0;34m(\u001b[0m\u001b[0mself\u001b[0m\u001b[0;34m.\u001b[0m\u001b[0mindptr\u001b[0m\u001b[0;34m)\u001b[0m \u001b[0;34m!=\u001b[0m \u001b[0mmajor_dim\u001b[0m \u001b[0;34m+\u001b[0m \u001b[0;36m1\u001b[0m\u001b[0;34m)\u001b[0m\u001b[0;34m:\u001b[0m\u001b[0;34m\u001b[0m\u001b[0;34m\u001b[0m\u001b[0m\n\u001b[1;32m    166\u001b[0m             raise ValueError(\"index pointer size ({}) should be ({})\"\n\u001b[0;32m--> 167\u001b[0;31m                              \"\".format(len(self.indptr), major_dim + 1))\n\u001b[0m\u001b[1;32m    168\u001b[0m         \u001b[0;32mif\u001b[0m \u001b[0;34m(\u001b[0m\u001b[0mself\u001b[0m\u001b[0;34m.\u001b[0m\u001b[0mindptr\u001b[0m\u001b[0;34m[\u001b[0m\u001b[0;36m0\u001b[0m\u001b[0;34m]\u001b[0m \u001b[0;34m!=\u001b[0m \u001b[0;36m0\u001b[0m\u001b[0;34m)\u001b[0m\u001b[0;34m:\u001b[0m\u001b[0;34m\u001b[0m\u001b[0;34m\u001b[0m\u001b[0m\n\u001b[1;32m    169\u001b[0m             \u001b[0;32mraise\u001b[0m \u001b[0mValueError\u001b[0m\u001b[0;34m(\u001b[0m\u001b[0;34m\"index pointer should start with 0\"\u001b[0m\u001b[0;34m)\u001b[0m\u001b[0;34m\u001b[0m\u001b[0;34m\u001b[0m\u001b[0m\n",
      "\u001b[0;31mValueError\u001b[0m: index pointer size (15) should be (33)"
     ]
    }
   ],
   "source": [
    "sparse.csc_matrix(a1, shape=(14+18, 14+18))"
   ]
  },
  {
   "cell_type": "code",
   "execution_count": null,
   "metadata": {
    "ExecuteTime": {
     "end_time": "2020-02-24T02:34:06.867935Z",
     "start_time": "2020-02-24T02:34:06.850831Z"
    }
   },
   "outputs": [],
   "source": []
  },
  {
   "cell_type": "code",
   "execution_count": null,
   "metadata": {},
   "outputs": [],
   "source": []
  }
 ],
 "metadata": {
  "kernelspec": {
   "display_name": "Python 3",
   "language": "python",
   "name": "python3"
  },
  "language_info": {
   "codemirror_mode": {
    "name": "ipython",
    "version": 3
   },
   "file_extension": ".py",
   "mimetype": "text/x-python",
   "name": "python",
   "nbconvert_exporter": "python",
   "pygments_lexer": "ipython3",
   "version": "3.7.4"
  },
  "toc": {
   "base_numbering": 1,
   "nav_menu": {},
   "number_sections": true,
   "sideBar": true,
   "skip_h1_title": false,
   "title_cell": "Table of Contents",
   "title_sidebar": "Contents",
   "toc_cell": false,
   "toc_position": {},
   "toc_section_display": true,
   "toc_window_display": false
  }
 },
 "nbformat": 4,
 "nbformat_minor": 4
}
