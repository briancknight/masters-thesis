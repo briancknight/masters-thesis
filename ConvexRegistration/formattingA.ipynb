{
 "cells": [
  {
   "cell_type": "code",
   "execution_count": 1,
   "metadata": {
    "ExecuteTime": {
     "end_time": "2020-02-01T21:55:46.897916Z",
     "start_time": "2020-02-01T21:55:46.827232Z"
    }
   },
   "outputs": [],
   "source": [
    "# formatting matrix A\n",
    "import numpy as np"
   ]
  },
  {
   "cell_type": "code",
   "execution_count": 2,
   "metadata": {
    "ExecuteTime": {
     "end_time": "2020-02-01T21:55:46.906571Z",
     "start_time": "2020-02-01T21:55:46.900409Z"
    }
   },
   "outputs": [],
   "source": [
    "C = []\n",
    "M = np.random.randint(0,300)\n",
    "for i in range(M):\n",
    "    j = np.random.randint(0,40)\n",
    "    c = np.random.rand(j)\n",
    "    C.append(c)"
   ]
  },
  {
   "cell_type": "code",
   "execution_count": 3,
   "metadata": {
    "ExecuteTime": {
     "end_time": "2020-02-01T21:55:46.913412Z",
     "start_time": "2020-02-01T21:55:46.909332Z"
    }
   },
   "outputs": [],
   "source": [
    "M = len(C)\n",
    "S = 0\n",
    "for c in C:\n",
    "    S+= len(c)"
   ]
  },
  {
   "cell_type": "code",
   "execution_count": 4,
   "metadata": {
    "ExecuteTime": {
     "end_time": "2020-02-01T21:55:46.926560Z",
     "start_time": "2020-02-01T21:55:46.915966Z"
    }
   },
   "outputs": [
    {
     "data": {
      "text/plain": [
       "2846"
      ]
     },
     "execution_count": 4,
     "metadata": {},
     "output_type": "execute_result"
    }
   ],
   "source": [
    "S"
   ]
  },
  {
   "cell_type": "code",
   "execution_count": 5,
   "metadata": {
    "ExecuteTime": {
     "end_time": "2020-02-01T21:55:46.932894Z",
     "start_time": "2020-02-01T21:55:46.929465Z"
    }
   },
   "outputs": [],
   "source": [
    "A = np.zeros([S, M])"
   ]
  },
  {
   "cell_type": "code",
   "execution_count": 6,
   "metadata": {
    "ExecuteTime": {
     "end_time": "2020-02-01T21:55:46.944126Z",
     "start_time": "2020-02-01T21:55:46.935882Z"
    }
   },
   "outputs": [],
   "source": [
    "j = 0\n",
    "for i in range(len(C)):\n",
    "    c = C[i]\n",
    "    l = len(c)\n",
    "    A[j:j+l, i] = c\n",
    "    j+=l"
   ]
  },
  {
   "cell_type": "code",
   "execution_count": 7,
   "metadata": {
    "ExecuteTime": {
     "end_time": "2020-02-01T21:55:46.950383Z",
     "start_time": "2020-02-01T21:55:46.945738Z"
    }
   },
   "outputs": [
    {
     "data": {
      "text/plain": [
       "array([0.09653212, 0.15865171, 0.        , ..., 0.        , 0.        ,\n",
       "       0.        ])"
      ]
     },
     "execution_count": 7,
     "metadata": {},
     "output_type": "execute_result"
    }
   ],
   "source": [
    "A[:,0]"
   ]
  },
  {
   "cell_type": "code",
   "execution_count": 8,
   "metadata": {
    "ExecuteTime": {
     "end_time": "2020-02-01T21:55:46.956144Z",
     "start_time": "2020-02-01T21:55:46.952006Z"
    }
   },
   "outputs": [
    {
     "data": {
      "text/plain": [
       "array([0.09653212, 0.15865171])"
      ]
     },
     "execution_count": 8,
     "metadata": {},
     "output_type": "execute_result"
    }
   ],
   "source": [
    "C[0]"
   ]
  },
  {
   "cell_type": "code",
   "execution_count": 9,
   "metadata": {
    "ExecuteTime": {
     "end_time": "2020-02-01T21:55:46.962822Z",
     "start_time": "2020-02-01T21:55:46.957498Z"
    }
   },
   "outputs": [
    {
     "data": {
      "text/plain": [
       "2"
      ]
     },
     "execution_count": 9,
     "metadata": {},
     "output_type": "execute_result"
    }
   ],
   "source": [
    "len(C[0])"
   ]
  },
  {
   "cell_type": "code",
   "execution_count": 10,
   "metadata": {
    "ExecuteTime": {
     "end_time": "2020-02-01T21:55:47.046909Z",
     "start_time": "2020-02-01T21:55:46.965610Z"
    }
   },
   "outputs": [
    {
     "ename": "ValueError",
     "evalue": "could not broadcast input array from shape (2) into shape (144)",
     "output_type": "error",
     "traceback": [
      "\u001b[0;31m---------------------------------------------------------------------------\u001b[0m",
      "\u001b[0;31mValueError\u001b[0m                                Traceback (most recent call last)",
      "\u001b[0;32m<ipython-input-10-bdcb77858cbd>\u001b[0m in \u001b[0;36m<module>\u001b[0;34m\u001b[0m\n\u001b[0;32m----> 1\u001b[0;31m \u001b[0mA\u001b[0m\u001b[0;34m[\u001b[0m\u001b[0;36m0\u001b[0m\u001b[0;34m:\u001b[0m\u001b[0;36m24\u001b[0m\u001b[0;34m]\u001b[0m\u001b[0;34m[\u001b[0m\u001b[0;36m0\u001b[0m\u001b[0;34m]\u001b[0m \u001b[0;34m=\u001b[0m \u001b[0mC\u001b[0m\u001b[0;34m[\u001b[0m\u001b[0;36m0\u001b[0m\u001b[0;34m]\u001b[0m\u001b[0;34m\u001b[0m\u001b[0;34m\u001b[0m\u001b[0m\n\u001b[0m",
      "\u001b[0;31mValueError\u001b[0m: could not broadcast input array from shape (2) into shape (144)"
     ]
    }
   ],
   "source": [
    "A[0:24][0] = C[0]"
   ]
  },
  {
   "cell_type": "code",
   "execution_count": null,
   "metadata": {
    "ExecuteTime": {
     "end_time": "2020-02-01T21:55:47.049881Z",
     "start_time": "2020-02-01T21:55:46.849Z"
    }
   },
   "outputs": [],
   "source": [
    "len(C[0])"
   ]
  },
  {
   "cell_type": "code",
   "execution_count": null,
   "metadata": {
    "ExecuteTime": {
     "end_time": "2020-02-01T21:55:47.051577Z",
     "start_time": "2020-02-01T21:55:46.850Z"
    }
   },
   "outputs": [],
   "source": [
    "A[0:24,0]"
   ]
  },
  {
   "cell_type": "code",
   "execution_count": null,
   "metadata": {},
   "outputs": [],
   "source": []
  }
 ],
 "metadata": {
  "kernelspec": {
   "display_name": "Python 3",
   "language": "python",
   "name": "python3"
  },
  "language_info": {
   "codemirror_mode": {
    "name": "ipython",
    "version": 3
   },
   "file_extension": ".py",
   "mimetype": "text/x-python",
   "name": "python",
   "nbconvert_exporter": "python",
   "pygments_lexer": "ipython3",
   "version": "3.7.4"
  },
  "toc": {
   "base_numbering": 1,
   "nav_menu": {},
   "number_sections": true,
   "sideBar": true,
   "skip_h1_title": false,
   "title_cell": "Table of Contents",
   "title_sidebar": "Contents",
   "toc_cell": false,
   "toc_position": {},
   "toc_section_display": true,
   "toc_window_display": false
  }
 },
 "nbformat": 4,
 "nbformat_minor": 2
}
