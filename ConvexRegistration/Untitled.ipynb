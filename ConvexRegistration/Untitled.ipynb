{
 "cells": [
  {
   "cell_type": "code",
   "execution_count": 1,
   "metadata": {
    "ExecuteTime": {
     "end_time": "2020-05-16T21:36:34.926965Z",
     "start_time": "2020-05-16T21:36:34.353004Z"
    }
   },
   "outputs": [],
   "source": [
    "from imTools import *\n",
    "from Metrics import meanSquaresMetric3D"
   ]
  },
  {
   "cell_type": "code",
   "execution_count": 6,
   "metadata": {
    "ExecuteTime": {
     "end_time": "2020-05-16T21:45:48.470719Z",
     "start_time": "2020-05-16T21:45:48.124149Z"
    }
   },
   "outputs": [],
   "source": [
    "base1 = readImage('images/BrainProtonDensitySlice.png')\n",
    "im1 = readImage('images/BrainProtonDensitySliceShifted13x17y.png')\n",
    "im2 = readImage('/Users/brknight/Documents/ConvexOptimization/figures/BrainPDShiftedX13Y17Ex.png')"
   ]
  },
  {
   "cell_type": "code",
   "execution_count": 7,
   "metadata": {
    "ExecuteTime": {
     "end_time": "2020-05-16T21:45:58.163877Z",
     "start_time": "2020-05-16T21:45:58.146535Z"
    }
   },
   "outputs": [
    {
     "name": "stdout",
     "output_type": "stream",
     "text": [
      "0.20758722189117687\n",
      "0.007337873958489001\n"
     ]
    }
   ],
   "source": [
    "print(meanSquaresMetric3D(base1, im1))\n",
    "print(meanSquaresMetric3D(im1, im2))"
   ]
  },
  {
   "cell_type": "code",
   "execution_count": 8,
   "metadata": {
    "ExecuteTime": {
     "end_time": "2020-05-16T21:46:11.170652Z",
     "start_time": "2020-05-16T21:46:10.819234Z"
    }
   },
   "outputs": [],
   "source": [
    "base2 = readImage('images/BrainT1Slice.png')\n",
    "im3 = readImage('images/BrainT1SliceR10X13Y17.png')\n",
    "im4 = readImage('/Users/brknight/Documents/ConvexOptimization/figures/Braint1ShiftedRotatedEx50.png')"
   ]
  },
  {
   "cell_type": "code",
   "execution_count": 9,
   "metadata": {
    "ExecuteTime": {
     "end_time": "2020-05-16T21:46:19.354533Z",
     "start_time": "2020-05-16T21:46:19.338329Z"
    }
   },
   "outputs": [
    {
     "name": "stdout",
     "output_type": "stream",
     "text": [
      "0.08948827344979539\n",
      "0.006299362879990311\n"
     ]
    }
   ],
   "source": [
    "print(meanSquaresMetric3D(base2, im3))\n",
    "print(meanSquaresMetric3D(im3, im4))"
   ]
  },
  {
   "cell_type": "code",
   "execution_count": null,
   "metadata": {},
   "outputs": [],
   "source": []
  }
 ],
 "metadata": {
  "kernelspec": {
   "display_name": "Python 3",
   "language": "python",
   "name": "python3"
  },
  "language_info": {
   "codemirror_mode": {
    "name": "ipython",
    "version": 3
   },
   "file_extension": ".py",
   "mimetype": "text/x-python",
   "name": "python",
   "nbconvert_exporter": "python",
   "pygments_lexer": "ipython3",
   "version": "3.7.4"
  },
  "toc": {
   "base_numbering": 1,
   "nav_menu": {},
   "number_sections": true,
   "sideBar": true,
   "skip_h1_title": false,
   "title_cell": "Table of Contents",
   "title_sidebar": "Contents",
   "toc_cell": false,
   "toc_position": {},
   "toc_section_display": true,
   "toc_window_display": false
  }
 },
 "nbformat": 4,
 "nbformat_minor": 2
}
