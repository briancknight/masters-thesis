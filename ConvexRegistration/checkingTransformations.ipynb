{
 "cells": [
  {
   "cell_type": "code",
   "execution_count": 2,
   "metadata": {
    "ExecuteTime": {
     "end_time": "2020-03-24T01:06:14.720080Z",
     "start_time": "2020-03-24T01:06:14.053875Z"
    }
   },
   "outputs": [],
   "source": [
    "# Stuff\n",
    "import numpy as np\n",
    "import cvxpy as cvx\n",
    "from scipy import sparse\n",
    "from scipy import signal\n",
    "from imTools import *\n",
    "from Taylor08 import *\n",
    "from convexHullPlot import *\n",
    "import time\n",
    "from MuliScaleRep import *\n",
    "from PIL import ImageFilter\n",
    "from scipy import interpolate"
   ]
  },
  {
   "cell_type": "code",
   "execution_count": 3,
   "metadata": {
    "ExecuteTime": {
     "end_time": "2020-03-24T01:06:15.313317Z",
     "start_time": "2020-03-24T01:06:15.075647Z"
    }
   },
   "outputs": [],
   "source": [
    "base = readImage('images/BrainProtonDensitySlice.png')\n",
    "target = readImage('images/BrainProtonDensitySliceShifted13x17y.png')\n",
    "\n",
    "(m, n, _) = base.copy().shape"
   ]
  },
  {
   "cell_type": "code",
   "execution_count": 4,
   "metadata": {
    "ExecuteTime": {
     "end_time": "2020-03-24T01:06:15.723848Z",
     "start_time": "2020-03-24T01:06:15.541193Z"
    }
   },
   "outputs": [],
   "source": [
    "# Downsample by a factor k:\n",
    "k = 4\n",
    "\n",
    "def downSample(imName, k):\n",
    "    \n",
    "    im = readImage(imName)\n",
    "    (m, n, _) = im.shape\n",
    "    \n",
    "    imDS = readImage(imName, (int(np.floor(n / k)), int(np.floor(m / k))))\n",
    "    \n",
    "    return imDS\n",
    "\n",
    "base = downSample('images/BrainProtonDensitySlice.png', k)\n",
    "target = downSample('images/BrainProtonDensitySliceShifted13x17y.png', k)\n",
    "# base = downSample('images/konaResize.png', k)\n",
    "# target = downSample('images/konaTransform.png', k)\n",
    "(m, n, _) = base.copy().shape"
   ]
  },
  {
   "cell_type": "code",
   "execution_count": 8,
   "metadata": {
    "ExecuteTime": {
     "end_time": "2020-03-24T01:06:35.310300Z",
     "start_time": "2020-03-24T01:06:34.380403Z"
    }
   },
   "outputs": [
    {
     "data": {
      "text/plain": [
       "<matplotlib.image.AxesImage at 0x10d5262d0>"
      ]
     },
     "execution_count": 8,
     "metadata": {},
     "output_type": "execute_result"
    },
    {
     "data": {
      "image/png": "[encoded data removed]",
      "text/plain": [
       "<Figure size 432x288 with 1 Axes>"
      ]
     },
     "metadata": {
      "needs_background": "light"
     },
     "output_type": "display_data"
    }
   ],
   "source": [
    "plt.imshow(gaussianDeformImage(base, 10, 4, 1/4*np.random.randn(38)))"
   ]
  },
  {
   "cell_type": "code",
   "execution_count": null,
   "metadata": {
    "ExecuteTime": {
     "end_time": "2020-03-24T00:22:24.651713Z",
     "start_time": "2020-03-24T00:22:24.643830Z"
    }
   },
   "outputs": [],
   "source": [
    "D1 = np.random.randn(m, n) - 13\n",
    "D2 = np.random.randn(m, n) - 17\n",
    "\n",
    "D = np.stack((D1, D2), axis = 2)"
   ]
  },
  {
   "cell_type": "code",
   "execution_count": null,
   "metadata": {
    "ExecuteTime": {
     "end_time": "2020-03-24T00:20:07.750965Z",
     "start_time": "2020-03-24T00:20:07.663210Z"
    }
   },
   "outputs": [],
   "source": [
    "from Transforms import displacementTransform"
   ]
  },
  {
   "cell_type": "code",
   "execution_count": null,
   "metadata": {
    "ExecuteTime": {
     "end_time": "2020-03-24T00:22:27.926912Z",
     "start_time": "2020-03-24T00:22:27.914625Z"
    }
   },
   "outputs": [],
   "source": [
    "outim = displacementTransform(base, D)"
   ]
  },
  {
   "cell_type": "code",
   "execution_count": null,
   "metadata": {
    "ExecuteTime": {
     "end_time": "2020-03-24T00:22:29.093531Z",
     "start_time": "2020-03-24T00:22:28.915002Z"
    }
   },
   "outputs": [],
   "source": [
    "plt.imshow(outim)"
   ]
  },
  {
   "cell_type": "code",
   "execution_count": null,
   "metadata": {
    "ExecuteTime": {
     "end_time": "2020-03-24T00:22:02.445627Z",
     "start_time": "2020-03-24T00:22:02.276031Z"
    }
   },
   "outputs": [],
   "source": [
    "plt.imshow(target)"
   ]
  },
  {
   "cell_type": "code",
   "execution_count": null,
   "metadata": {
    "ExecuteTime": {
     "end_time": "2020-03-24T00:40:07.612620Z",
     "start_time": "2020-03-24T00:40:07.601412Z"
    }
   },
   "outputs": [],
   "source": [
    "def firstOrderDeformImage2(im, p):\n",
    "\n",
    "    # Models and affine transformation\n",
    "\n",
    "    if len(p) != 6:\n",
    "        raise Exception('Incorrect number of deformation parameters for Second Order Deformation')\n",
    "\n",
    "    px = p[:3]\n",
    "    py = p[3:]\n",
    "\n",
    "    (rows, cols, _) = im.shape\n",
    "\n",
    "    displacements = np.zeros([rows, cols, 2])\n",
    "\n",
    "    for y in range(rows):\n",
    "        for x in range(cols):\n",
    "            c = firstOrderD((x,y))\n",
    "            Dx = np.dot(c, px)\n",
    "            Dy = np.dot(c, py)\n",
    "            displacements[y, x] = [-Dx, -Dy]\n",
    "\n",
    "    return displacementTransform(im, displacements)\n",
    "\n",
    "def secondOrderDeformImage2(im, p):\n",
    "\n",
    "    if len(p) != 12:\n",
    "        raise Exception('Incorrect number of deformation parameters for Second Order Deformation')\n",
    "\n",
    "    px = p[:6]\n",
    "    py = p[6:]\n",
    "\n",
    "    (rows, cols, _) = im.shape\n",
    "\n",
    "    displacements = np.zeros([rows, cols, 2])\n",
    "\n",
    "    for y in range(rows):\n",
    "        for x in range(cols):\n",
    "            # Note\n",
    "            c = secondOrderD((x, y))\n",
    "            Dx = np.dot(c, px)\n",
    "            Dy = np.dot(c, py)\n",
    "            # The minuse defines our orientation (down and right is  ++)\n",
    "            displacements[y, x] = [-Dx, -Dy]\n",
    "\n",
    "    return displacementTransform(im, displacements)"
   ]
  },
  {
   "cell_type": "code",
   "execution_count": null,
   "metadata": {
    "ExecuteTime": {
     "end_time": "2020-03-24T00:42:26.501661Z",
     "start_time": "2020-03-24T00:42:25.854185Z"
    }
   },
   "outputs": [],
   "source": [
    "plt.imshow(firstOrderDeformImage2(base, [13, 0.00, 0,17, 0.0, 0]))"
   ]
  },
  {
   "cell_type": "code",
   "execution_count": null,
   "metadata": {},
   "outputs": [],
   "source": []
  }
 ],
 "metadata": {
  "kernelspec": {
   "display_name": "Python 3",
   "language": "python",
   "name": "python3"
  },
  "language_info": {
   "codemirror_mode": {
    "name": "ipython",
    "version": 3
   },
   "file_extension": ".py",
   "mimetype": "text/x-python",
   "name": "python",
   "nbconvert_exporter": "python",
   "pygments_lexer": "ipython3",
   "version": "3.7.4"
  },
  "toc": {
   "base_numbering": 1,
   "nav_menu": {},
   "number_sections": true,
   "sideBar": true,
   "skip_h1_title": false,
   "title_cell": "Table of Contents",
   "title_sidebar": "Contents",
   "toc_cell": false,
   "toc_position": {},
   "toc_section_display": true,
   "toc_window_display": false
  }
 },
 "nbformat": 4,
 "nbformat_minor": 2
}
