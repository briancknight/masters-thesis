{
 "cells": [
  {
   "cell_type": "code",
   "execution_count": 1,
   "metadata": {
    "ExecuteTime": {
     "end_time": "2020-03-08T01:42:23.525876Z",
     "start_time": "2020-03-08T01:42:22.954606Z"
    }
   },
   "outputs": [],
   "source": [
    "# Clean Slate for clean thoughts :)\n",
    "# Stuff\n",
    "import numpy as np\n",
    "import cvxpy as cvx\n",
    "from scipy import sparse\n",
    "from imTools import *\n",
    "from Taylor08 import *\n",
    "from convexHullPlot import *"
   ]
  },
  {
   "cell_type": "code",
   "execution_count": 2,
   "metadata": {
    "ExecuteTime": {
     "end_time": "2020-03-08T01:42:24.233903Z",
     "start_time": "2020-03-08T01:42:24.216805Z"
    }
   },
   "outputs": [],
   "source": [
    "base = readImage('images/BrainProtonDensitySlice.png', (50,50))\n",
    "target = readImage('images/DeformedBrainPD.png', (50,50))\n",
    "\n",
    "(m, n, _) = base.shape"
   ]
  },
  {
   "cell_type": "code",
   "execution_count": 3,
   "metadata": {
    "ExecuteTime": {
     "end_time": "2020-03-08T01:45:36.471300Z",
     "start_time": "2020-03-08T01:42:25.618440Z"
    }
   },
   "outputs": [
    {
     "name": "stdout",
     "output_type": "stream",
     "text": [
      "Getting Coefficients...\n",
      "Done. Time elapsed: 11.918673038482666  \n",
      "\n",
      "\n",
      "Formatting Matrices...\n",
      "Done. Total Time Elapsed:  12.230146884918213 \n",
      "\n",
      "\n"
     ]
    },
    {
     "name": "stderr",
     "output_type": "stream",
     "text": [
      "/usr/local/lib/python3.7/site-packages/scipy/sparse/linalg/dsolve/linsolve.py:296: SparseEfficiencyWarning: splu requires CSC matrix format\n",
      "  warn('splu requires CSC matrix format', SparseEfficiencyWarning)\n",
      "/usr/local/lib/python3.7/site-packages/scipy/sparse/linalg/dsolve/linsolve.py:203: SparseEfficiencyWarning: spsolve is more efficient when sparse b is in the CSC matrix format\n",
      "  'is in the CSC matrix format', SparseEfficiencyWarning)\n"
     ]
    },
    {
     "ename": "KeyboardInterrupt",
     "evalue": "",
     "output_type": "error",
     "traceback": [
      "\u001b[0;31m---------------------------------------------------------------------------\u001b[0m",
      "\u001b[0;31mKeyboardInterrupt\u001b[0m                         Traceback (most recent call last)",
      "\u001b[0;32m<ipython-input-3-d8af53ebd4d7>\u001b[0m in \u001b[0;36m<module>\u001b[0;34m\u001b[0m\n\u001b[0;32m----> 1\u001b[0;31m \u001b[0mp\u001b[0m \u001b[0;34m=\u001b[0m \u001b[0mTaylor08\u001b[0m\u001b[0;34m(\u001b[0m\u001b[0mbase\u001b[0m\u001b[0;34m,\u001b[0m \u001b[0mtarget\u001b[0m\u001b[0;34m)\u001b[0m\u001b[0;34m\u001b[0m\u001b[0;34m\u001b[0m\u001b[0m\n\u001b[0m",
      "\u001b[0;32m~/Documents/GitHub/masters-thesis/ConvexRegistration/Taylor08.py\u001b[0m in \u001b[0;36mTaylor08\u001b[0;34m(target, base)\u001b[0m\n\u001b[1;32m     24\u001b[0m \u001b[0;34m\u001b[0m\u001b[0m\n\u001b[1;32m     25\u001b[0m         \u001b[0;32mwhile\u001b[0m \u001b[0;32mTrue\u001b[0m\u001b[0;34m:\u001b[0m\u001b[0;34m\u001b[0m\u001b[0;34m\u001b[0m\u001b[0m\n\u001b[0;32m---> 26\u001b[0;31m                 \u001b[0;34m(\u001b[0m\u001b[0mpStar\u001b[0m\u001b[0;34m,\u001b[0m \u001b[0mzStar\u001b[0m\u001b[0;34m)\u001b[0m \u001b[0;34m=\u001b[0m \u001b[0mTaylorNewtonStep\u001b[0m\u001b[0;34m(\u001b[0m\u001b[0;34m(\u001b[0m\u001b[0mAx\u001b[0m\u001b[0;34m,\u001b[0m \u001b[0mAy\u001b[0m\u001b[0;34m,\u001b[0m \u001b[0mIz\u001b[0m\u001b[0;34m,\u001b[0m \u001b[0mb\u001b[0m\u001b[0;34m,\u001b[0m \u001b[0mC\u001b[0m\u001b[0;34m)\u001b[0m\u001b[0;34m,\u001b[0m \u001b[0mp\u001b[0m\u001b[0;34m,\u001b[0m \u001b[0mz\u001b[0m\u001b[0;34m,\u001b[0m \u001b[0mt\u001b[0m\u001b[0;34m)\u001b[0m\u001b[0;34m\u001b[0m\u001b[0;34m\u001b[0m\u001b[0m\n\u001b[0m\u001b[1;32m     27\u001b[0m                 \u001b[0mp\u001b[0m \u001b[0;34m=\u001b[0m \u001b[0mpStar\u001b[0m\u001b[0;34m\u001b[0m\u001b[0;34m\u001b[0m\u001b[0m\n\u001b[1;32m     28\u001b[0m                 \u001b[0mz\u001b[0m \u001b[0;34m=\u001b[0m \u001b[0mzStar\u001b[0m\u001b[0;34m\u001b[0m\u001b[0;34m\u001b[0m\u001b[0m\n",
      "\u001b[0;32m~/Documents/GitHub/masters-thesis/ConvexRegistration/Taylor08.py\u001b[0m in \u001b[0;36mTaylorNewtonStep\u001b[0;34m(facetCoeffs, p, z, t)\u001b[0m\n\u001b[1;32m     92\u001b[0m         while max(Ax @ C @ (p + tau * dp)[:L] + \\\n\u001b[1;32m     93\u001b[0m                   \u001b[0mAy\u001b[0m \u001b[0;34m@\u001b[0m \u001b[0mC\u001b[0m \u001b[0;34m@\u001b[0m \u001b[0;34m(\u001b[0m\u001b[0mp\u001b[0m \u001b[0;34m+\u001b[0m \u001b[0mtau\u001b[0m \u001b[0;34m*\u001b[0m \u001b[0mdp\u001b[0m\u001b[0;34m)\u001b[0m\u001b[0;34m[\u001b[0m\u001b[0mL\u001b[0m\u001b[0;34m:\u001b[0m\u001b[0;34m]\u001b[0m \u001b[0;34m-\u001b[0m\u001b[0;31m \u001b[0m\u001b[0;31m\\\u001b[0m\u001b[0;34m\u001b[0m\u001b[0;34m\u001b[0m\u001b[0m\n\u001b[0;32m---> 94\u001b[0;31m                   Iz @ (z + tau * dz) - b) >= 0.0:\n\u001b[0m\u001b[1;32m     95\u001b[0m \u001b[0;34m\u001b[0m\u001b[0m\n\u001b[1;32m     96\u001b[0m             \u001b[0;31m# Update tau\u001b[0m\u001b[0;34m\u001b[0m\u001b[0;34m\u001b[0m\u001b[0;34m\u001b[0m\u001b[0m\n",
      "\u001b[0;31mKeyboardInterrupt\u001b[0m: "
     ]
    }
   ],
   "source": [
    "p = Taylor08(base, target)"
   ]
  },
  {
   "cell_type": "code",
   "execution_count": null,
   "metadata": {
    "ExecuteTime": {
     "end_time": "2020-03-08T01:34:02.460000Z",
     "start_time": "2020-03-08T01:34:02.454227Z"
    }
   },
   "outputs": [],
   "source": [
    "p"
   ]
  },
  {
   "cell_type": "code",
   "execution_count": null,
   "metadata": {
    "ExecuteTime": {
     "end_time": "2020-03-08T01:02:54.042094Z",
     "start_time": "2020-03-08T01:01:54.507171Z"
    },
    "scrolled": true
   },
   "outputs": [],
   "source": [
    "# Let's do an example with a smaller tranformation space to start:\n",
    "# To get lower convex hull coefficients just compare target to base:\n",
    "window = 10\n",
    "k = 4\n",
    "sigma = 10\n",
    "(Ax, Ay, Iz, b, C) = getConstraintCoeffs(target, base, window, k, sigma)"
   ]
  },
  {
   "cell_type": "code",
   "execution_count": null,
   "metadata": {
    "ExecuteTime": {
     "end_time": "2020-03-08T01:03:16.659567Z",
     "start_time": "2020-03-08T01:03:16.612954Z"
    }
   },
   "outputs": [],
   "source": [
    "p = np.zeros(38)\n",
    "z = np.ones(m*n)*130\n",
    "max(Ax @ C @ p[:19] + Ay @ C @ p[19:] -Iz @ z - b)\n",
    "# (p1,z1) = TaylorNewtonStep((im, Ax, Ay, Iz, b, Dx, Dy, C), p, z, 1)"
   ]
  },
  {
   "cell_type": "code",
   "execution_count": null,
   "metadata": {
    "ExecuteTime": {
     "end_time": "2020-03-06T23:07:01.530247Z",
     "start_time": "2020-03-06T23:07:00.990912Z"
    }
   },
   "outputs": [],
   "source": [
    "# Convex Lower Hull Plot Example\n",
    "window = 8\n",
    "plt.imshow(target)\n",
    "(x,y) = (0,0)\n",
    "errorSurface = []\n",
    "for i in range(-window, window):\n",
    "    for j in range(-window, window):\n",
    "\n",
    "        if ((x + i) < m and (x + i) >= 0 and (y+j) < n and (y+j) >=0):\n",
    "            error = np.linalg.norm(target[x,y] - base[x + i, y + j], 3) ** 2\n",
    "            print(error)\n",
    "            errorSurface.append([x + i, y + j, error])\n",
    "\n",
    "errorSurface = np.array(errorSurface)\n",
    "# hull = ConvexHull(points = errorSurface, qhull_options='QJ')\n",
    "# hull = ConvexHull(points = errorSurface)\n",
    "\n",
    "plotLowerHull(errorSurface, 1)"
   ]
  },
  {
   "cell_type": "code",
   "execution_count": null,
   "metadata": {
    "ExecuteTime": {
     "end_time": "2020-03-08T00:39:56.115996Z",
     "start_time": "2020-03-08T00:39:56.096481Z"
    }
   },
   "outputs": [],
   "source": [
    "def TaylorNewtonStep(facetCoeffs, p, z, t):\n",
    "    # minimizes t*z - sum(log(ax_i ci.T px + ay_i ci.T py - Izi.T z - bi)) wrt z, px, py\n",
    "    (im, Ax, Ay, Iz, b, C) = facetCoeffs\n",
    "    (m, n, _) = im.shape\n",
    "    c = t*np.ones(m*n)\n",
    "    \n",
    "    L = int(len(p) / 2)\n",
    "    \n",
    "    # line search params:\n",
    "    alpha = 0.3\n",
    "    beta = 0.8\n",
    "    eps =  1/10**6 # Not sure what to make this\n",
    "    maxiters = 100\n",
    "    count = 0\n",
    "    \n",
    "    # Perform Line Search:\n",
    "    for iter in range(maxiters):\n",
    "        \n",
    "        count += 1\n",
    "        A = (Ax @ C @ p[:3]) + (Ay @ C @ p[3:]) - Iz @ z\n",
    "        s = b - A\n",
    "        d = sparse.diags(s**(-1))\n",
    "        d2 = d**2\n",
    "\n",
    "        (Hp, Hz, D6) = getHessians(Ax, Ay, Iz, C, d2)\n",
    "        (gp, gz) = getGradients(Ax, Ay, Iz, C, s, t)\n",
    "        \n",
    "        # Solve for Newton Step:\n",
    "        g = np.concatenate((gp,gz), axis = 0)\n",
    "        \n",
    "        Dinv = sparse.linalg.inv(D6)\n",
    "        Hprime = Hp - Hz.T @ Dinv @ Hz\n",
    "        gpprime = (-1 * gp) - Hz.T @ Dinv @ (-1 * gz)\n",
    "        \n",
    "        # Use Block Diagonals and Schur Complement to solve the system:\n",
    "        # dp = np.linalg.solve(Hp - Hz.T @ Dinv @ Hz, (-1*gp) - Hz.T @ Dinv @ (-1*gz)) \n",
    "        dp = np.linalg.solve(Hprime, gpprime)\n",
    "        dz = sparse.linalg.inv(D6)@((-1*gz) - Hz @ dp)\n",
    "        delta = np.concatenate((dp, dz), axis = 0)\n",
    "#         gprime = gp - Hz.T @ Dinv @ gz\n",
    "        \n",
    "        g2 = np.concatenate((gpprime, gz), axis = 0)\n",
    "                \n",
    "        # Check Optimality Gap:\n",
    "#         lambdasqr = -1 * dp.T @ Hprime @ dp\n",
    "        lambdasqr = -1 * g.T @ delta\n",
    "        print('lambdasqr/2 = ', lambdasqr/2, '\\n\\n')\n",
    "        if lambdasqr / 2 < eps:\n",
    "            break # if already eps-suboptimal\n",
    "       \n",
    "        # else: \n",
    "        tau = 1        \n",
    "        \n",
    "        # Check if z + tau * dz is feasible\n",
    "        while max(Ax @ C @ (p + tau * dp)[:L] + \\\n",
    "                  Ay @ C @ (p + tau * dp)[L:] - \\\n",
    "                  Iz @ (z + tau * dz) - b) >= 0.0:\n",
    "\n",
    "            # Update tau\n",
    "            tau = beta * tau\n",
    "        print('Feasible step\\n\\n')      \n",
    "        \n",
    "        # Want f(x + t*x_nt) < f(x) + t*alpha*g.T @ x_nt\n",
    "        # Ensure step is \n",
    "#         while c.T @ (z + tau * dz) \\\n",
    "#             - sum(np.log(-1 * (Ax @ C @ (p + tau * dp)[:L] + \\\n",
    "#                                 Ay @ C @ (p + tau * dp)[L:] - \\\n",
    "#                                 Iz @ (z + tau * dz) - b))) \\\n",
    "#                                 > c.T @ z - sum(np.log(-1 * (Ax @ C @ p[:L] + \\\n",
    "#                                   Ay @ C @ p[L:] - \\\n",
    "#                                   Iz @ z - b))) + \\\n",
    "#                                   alpha * t * g.T @ delta:\n",
    "#             # Update tau\n",
    "#             tau = beta * tau  \n",
    "            \n",
    "        while c.T @ (tau * dz) - sum(np.log(-1 * (Ax @ C @ (p + tau * dp)[:L] + \\\n",
    "                Ay @ C @ (p + tau * dp)[L:] - Iz @ (z + tau * dz) - b))) \\\n",
    "                + sum(np.log(-1 * (Ax @ C @ p[:L] + Ay @ C @ p[L:] - Iz @ z - b))) - \\\n",
    "                alpha * tau * g.T @ delta > 0:\n",
    "            # Update tau\n",
    "            tau = beta * tau\n",
    "            \n",
    "        print('alpha optimal step?\\n\\n')\n",
    "        \n",
    "        # prints p newton step\n",
    "        print('dp = ', tau * dp, '\\n\\n')\n",
    "        # Update px, py, z\n",
    "        p += tau * dp\n",
    "        z += tau * dz\n",
    "        \n",
    "        print('p = ', p, '\\n\\n')\n",
    "        \n",
    "        # Show current tranformation\n",
    "        imCur = firstOrderDeformImage(base, p[:L], p[L:])\n",
    "        plt.imshow(imCur)\n",
    "        plt.show()\n",
    "                \n",
    "    if count == maxiters:\n",
    "        print('ERROR: MAXITERS reached.\\n')\n",
    "        p = 0\n",
    "        z = 0\n",
    "    \n",
    "    return (p, z)"
   ]
  },
  {
   "cell_type": "code",
   "execution_count": null,
   "metadata": {
    "ExecuteTime": {
     "end_time": "2020-03-08T01:03:27.164559Z",
     "start_time": "2020-03-08T01:03:27.148975Z"
    }
   },
   "outputs": [],
   "source": [
    "t = 1\n",
    "mu = 20\n",
    "eps = 1/10**3\n",
    "\n",
    "M = len(b)\n",
    "p = np.zeros(38)\n",
    "\n",
    "while True:\n",
    "    (pStar, zStar) = TaylorNewtonStep((Ax, Ay, Iz, b, C), p, z, t)\n",
    "    p = pStar\n",
    "    z = zStar\n",
    "    gap = M/t\n",
    "    if gap <= eps:\n",
    "        break\n",
    "    t = mu*t\n",
    "\n",
    "return p"
   ]
  },
  {
   "cell_type": "code",
   "execution_count": null,
   "metadata": {
    "ExecuteTime": {
     "end_time": "2020-03-08T00:53:40.579334Z",
     "start_time": "2020-03-08T00:53:40.575447Z"
    }
   },
   "outputs": [],
   "source": [
    "base.shape"
   ]
  },
  {
   "cell_type": "code",
   "execution_count": null,
   "metadata": {
    "ExecuteTime": {
     "end_time": "2020-03-02T19:48:22.142511Z",
     "start_time": "2020-03-02T19:48:22.137872Z"
    }
   },
   "outputs": [],
   "source": []
  },
  {
   "cell_type": "code",
   "execution_count": null,
   "metadata": {
    "ExecuteTime": {
     "end_time": "2020-03-02T16:37:22.834188Z",
     "start_time": "2020-03-02T16:37:22.648416Z"
    }
   },
   "outputs": [],
   "source": []
  },
  {
   "cell_type": "code",
   "execution_count": null,
   "metadata": {
    "ExecuteTime": {
     "end_time": "2020-03-01T07:26:07.013991Z",
     "start_time": "2020-03-01T07:26:07.010612Z"
    }
   },
   "outputs": [],
   "source": []
  },
  {
   "cell_type": "code",
   "execution_count": null,
   "metadata": {
    "ExecuteTime": {
     "end_time": "2020-03-08T01:04:25.201932Z",
     "start_time": "2020-03-08T01:04:25.198103Z"
    }
   },
   "outputs": [],
   "source": [
    "Ax.shape[1]"
   ]
  },
  {
   "cell_type": "code",
   "execution_count": null,
   "metadata": {
    "ExecuteTime": {
     "end_time": "2020-03-01T05:00:19.910290Z",
     "start_time": "2020-03-01T05:00:19.906898Z"
    }
   },
   "outputs": [],
   "source": []
  },
  {
   "cell_type": "code",
   "execution_count": null,
   "metadata": {
    "ExecuteTime": {
     "end_time": "2020-03-04T18:58:07.467072Z",
     "start_time": "2020-03-04T18:58:07.438947Z"
    }
   },
   "outputs": [],
   "source": [
    "A = (Ax @ C @ p[:3]) + (Ay @ C @ p[3:]) - Iz @ z\n",
    "s = b - A + 10**(-8)\n",
    "d = sparse.diags(s**(-1))\n",
    "d2 = d**2\n",
    "\n",
    "(Hp, Hz, D6) = getHessians(Ax, Ay, Iz, C, d2)\n",
    "(gp, gz) = getGradients(Ax, Ay, Iz, C, s, t)\n",
    "\n",
    "# Solve for Newton Step:\n",
    "g = np.concatenate((gp,gz), axis = 0)\n",
    "Dinv = sparse.linalg.inv(D6)\n",
    "dp = np.linalg.solve(Hp - Hz.T @ Dinv @ Hz, (-1*gp) - Hz.T @ Dinv @ (-1*gz))\n",
    "dz = sparse.linalg.inv(D6)@((-1*gz) - Hz @ dp)\n",
    "delta = np.concatenate((dp, dz), axis = 0)"
   ]
  },
  {
   "cell_type": "code",
   "execution_count": null,
   "metadata": {
    "ExecuteTime": {
     "end_time": "2020-03-03T18:16:52.474001Z",
     "start_time": "2020-03-03T18:16:52.470160Z"
    }
   },
   "outputs": [],
   "source": []
  },
  {
   "cell_type": "code",
   "execution_count": null,
   "metadata": {
    "ExecuteTime": {
     "end_time": "2020-03-03T18:16:53.810524Z",
     "start_time": "2020-03-03T18:16:53.806637Z"
    }
   },
   "outputs": [],
   "source": []
  },
  {
   "cell_type": "code",
   "execution_count": null,
   "metadata": {
    "ExecuteTime": {
     "end_time": "2020-03-03T18:16:55.609688Z",
     "start_time": "2020-03-03T18:16:55.605756Z"
    }
   },
   "outputs": [],
   "source": []
  },
  {
   "cell_type": "code",
   "execution_count": null,
   "metadata": {
    "ExecuteTime": {
     "end_time": "2020-03-03T18:17:02.282278Z",
     "start_time": "2020-03-03T18:17:02.278056Z"
    }
   },
   "outputs": [],
   "source": []
  },
  {
   "cell_type": "code",
   "execution_count": null,
   "metadata": {
    "ExecuteTime": {
     "end_time": "2020-03-06T23:25:31.980418Z",
     "start_time": "2020-03-06T23:25:30.840Z"
    }
   },
   "outputs": [],
   "source": [
    "\n"
   ]
  },
  {
   "cell_type": "code",
   "execution_count": null,
   "metadata": {
    "ExecuteTime": {
     "end_time": "2020-03-03T18:57:05.276901Z",
     "start_time": "2020-03-03T18:56:31.467067Z"
    }
   },
   "outputs": [],
   "source": []
  },
  {
   "cell_type": "code",
   "execution_count": null,
   "metadata": {
    "ExecuteTime": {
     "end_time": "2020-03-03T18:55:06.425501Z",
     "start_time": "2020-03-03T18:55:06.421226Z"
    }
   },
   "outputs": [],
   "source": []
  },
  {
   "cell_type": "code",
   "execution_count": null,
   "metadata": {
    "ExecuteTime": {
     "end_time": "2020-03-06T23:25:39.196828Z",
     "start_time": "2020-03-06T23:25:39.187128Z"
    }
   },
   "outputs": [],
   "source": []
  },
  {
   "cell_type": "code",
   "execution_count": null,
   "metadata": {
    "ExecuteTime": {
     "end_time": "2020-03-03T18:07:12.035606Z",
     "start_time": "2020-03-03T18:06:39.308998Z"
    }
   },
   "outputs": [],
   "source": []
  },
  {
   "cell_type": "code",
   "execution_count": null,
   "metadata": {
    "ExecuteTime": {
     "end_time": "2020-03-03T18:07:39.975090Z",
     "start_time": "2020-03-03T18:07:39.971653Z"
    }
   },
   "outputs": [],
   "source": []
  },
  {
   "cell_type": "code",
   "execution_count": 4,
   "metadata": {
    "ExecuteTime": {
     "end_time": "2020-03-08T02:17:17.234702Z",
     "start_time": "2020-03-08T02:17:16.790129Z"
    }
   },
   "outputs": [
    {
     "ename": "NameError",
     "evalue": "name 'Ax' is not defined",
     "output_type": "error",
     "traceback": [
      "\u001b[0;31m---------------------------------------------------------------------------\u001b[0m",
      "\u001b[0;31mNameError\u001b[0m                                 Traceback (most recent call last)",
      "\u001b[0;32m<ipython-input-4-200ab22cd1c0>\u001b[0m in \u001b[0;36m<module>\u001b[0;34m\u001b[0m\n\u001b[1;32m      9\u001b[0m \u001b[0mC2\u001b[0m \u001b[0;34m=\u001b[0m \u001b[0mnp\u001b[0m\u001b[0;34m.\u001b[0m\u001b[0marray\u001b[0m\u001b[0;34m(\u001b[0m\u001b[0mC2\u001b[0m\u001b[0;34m)\u001b[0m\u001b[0;34m\u001b[0m\u001b[0;34m\u001b[0m\u001b[0m\n\u001b[1;32m     10\u001b[0m \u001b[0mobjective\u001b[0m \u001b[0;34m=\u001b[0m \u001b[0mcvx\u001b[0m\u001b[0;34m.\u001b[0m\u001b[0mMinimize\u001b[0m\u001b[0;34m(\u001b[0m\u001b[0mnp\u001b[0m\u001b[0;34m.\u001b[0m\u001b[0mones\u001b[0m\u001b[0;34m(\u001b[0m\u001b[0mm\u001b[0m\u001b[0;34m*\u001b[0m\u001b[0mn\u001b[0m\u001b[0;34m)\u001b[0m\u001b[0;34m.\u001b[0m\u001b[0mT\u001b[0m \u001b[0;34m@\u001b[0m \u001b[0mz\u001b[0m\u001b[0;34m)\u001b[0m\u001b[0;34m\u001b[0m\u001b[0;34m\u001b[0m\u001b[0m\n\u001b[0;32m---> 11\u001b[0;31m \u001b[0mconstraints\u001b[0m \u001b[0;34m=\u001b[0m \u001b[0;34m[\u001b[0m\u001b[0mAx\u001b[0m \u001b[0;34m@\u001b[0m \u001b[0mC2\u001b[0m \u001b[0;34m@\u001b[0m \u001b[0mpx\u001b[0m \u001b[0;34m+\u001b[0m \u001b[0mAy\u001b[0m \u001b[0;34m@\u001b[0m \u001b[0mC2\u001b[0m \u001b[0;34m@\u001b[0m \u001b[0mpy\u001b[0m \u001b[0;34m-\u001b[0m \u001b[0mIz\u001b[0m \u001b[0;34m@\u001b[0m \u001b[0mz\u001b[0m \u001b[0;34m-\u001b[0m \u001b[0mb\u001b[0m \u001b[0;34m<=\u001b[0m\u001b[0;36m0\u001b[0m\u001b[0;34m,\u001b[0m \u001b[0mC2\u001b[0m \u001b[0;34m@\u001b[0m \u001b[0mpx\u001b[0m \u001b[0;34m<=\u001b[0m \u001b[0;36m40\u001b[0m \u001b[0;34m*\u001b[0m \u001b[0mnp\u001b[0m\u001b[0;34m.\u001b[0m\u001b[0mones\u001b[0m\u001b[0;34m(\u001b[0m\u001b[0mm\u001b[0m\u001b[0;34m*\u001b[0m\u001b[0mn\u001b[0m\u001b[0;34m)\u001b[0m\u001b[0;34m,\u001b[0m \u001b[0mC2\u001b[0m \u001b[0;34m@\u001b[0m \u001b[0mpx\u001b[0m \u001b[0;34m>=\u001b[0m \u001b[0;34m-\u001b[0m\u001b[0;36m40\u001b[0m \u001b[0;34m*\u001b[0m \u001b[0mnp\u001b[0m\u001b[0;34m.\u001b[0m\u001b[0mones\u001b[0m\u001b[0;34m(\u001b[0m\u001b[0mm\u001b[0m\u001b[0;34m*\u001b[0m\u001b[0mn\u001b[0m\u001b[0;34m)\u001b[0m\u001b[0;34m,\u001b[0m \u001b[0mC2\u001b[0m \u001b[0;34m@\u001b[0m \u001b[0mpy\u001b[0m \u001b[0;34m<=\u001b[0m \u001b[0;36m40\u001b[0m \u001b[0;34m*\u001b[0m \u001b[0mnp\u001b[0m\u001b[0;34m.\u001b[0m\u001b[0mones\u001b[0m\u001b[0;34m(\u001b[0m\u001b[0mm\u001b[0m\u001b[0;34m*\u001b[0m\u001b[0mn\u001b[0m\u001b[0;34m)\u001b[0m\u001b[0;34m,\u001b[0m \u001b[0mC2\u001b[0m \u001b[0;34m@\u001b[0m \u001b[0mpy\u001b[0m \u001b[0;34m>=\u001b[0m \u001b[0;34m-\u001b[0m\u001b[0;36m40\u001b[0m \u001b[0;34m*\u001b[0m \u001b[0mnp\u001b[0m\u001b[0;34m.\u001b[0m\u001b[0mones\u001b[0m\u001b[0;34m(\u001b[0m\u001b[0mm\u001b[0m\u001b[0;34m*\u001b[0m\u001b[0mn\u001b[0m\u001b[0;34m)\u001b[0m\u001b[0;34m]\u001b[0m\u001b[0;34m\u001b[0m\u001b[0;34m\u001b[0m\u001b[0m\n\u001b[0m\u001b[1;32m     12\u001b[0m \u001b[0;31m# constraints = [Ax @ C2 @ px + Ay @ C2 @ py - Iz @ z - b <=0]\u001b[0m\u001b[0;34m\u001b[0m\u001b[0;34m\u001b[0m\u001b[0;34m\u001b[0m\u001b[0m\n\u001b[1;32m     13\u001b[0m \u001b[0;34m\u001b[0m\u001b[0m\n",
      "\u001b[0;31mNameError\u001b[0m: name 'Ax' is not defined"
     ]
    }
   ],
   "source": [
    "z = cvx.Variable(m*n)\n",
    "px = cvx.Variable(19)\n",
    "py = cvx.Variable(19)\n",
    "C2 = []\n",
    "kernels = getKernels((m,n), 4)\n",
    "for x in range(n):\n",
    "    for y in range(m):\n",
    "        C2.append(gaussianD((x,y), kernels, 10))\n",
    "C2 = np.array(C2)\n",
    "objective = cvx.Minimize(np.ones(m*n).T @ z)\n",
    "constraints = [Ax @ C2 @ px + Ay @ C2 @ py - Iz @ z - b <=0, C2 @ px <= 40 * np.ones(m*n), C2 @ px >= -40 * np.ones(m*n), C2 @ py <= 40 * np.ones(m*n), C2 @ py >= -40 * np.ones(m*n)]\n",
    "# constraints = [Ax @ C2 @ px + Ay @ C2 @ py - Iz @ z - b <=0]\n",
    "\n",
    "prob = cvx.Problem(objective, constraints)\n",
    "\n",
    "result = prob.solve(solver=cvx.ECOS)\n",
    "\n",
    "im = gaussianDeformImage(base, 10, 4, px.value, py.value)\n",
    "plt.imshow(im)"
   ]
  },
  {
   "cell_type": "code",
   "execution_count": null,
   "metadata": {
    "ExecuteTime": {
     "end_time": "2020-03-08T00:47:54.811216Z",
     "start_time": "2020-03-08T00:47:54.807234Z"
    }
   },
   "outputs": [],
   "source": [
    "py.value"
   ]
  },
  {
   "cell_type": "code",
   "execution_count": null,
   "metadata": {
    "ExecuteTime": {
     "end_time": "2020-03-04T18:56:27.592959Z",
     "start_time": "2020-03-04T18:56:27.589333Z"
    }
   },
   "outputs": [],
   "source": [
    "C2.T@px.value"
   ]
  },
  {
   "cell_type": "code",
   "execution_count": null,
   "metadata": {
    "ExecuteTime": {
     "end_time": "2020-03-08T01:38:11.414745Z",
     "start_time": "2020-03-08T01:38:10.751127Z"
    }
   },
   "outputs": [],
   "source": [
    "im = gaussianDeformImage(base, 10, 4, p[:19], p[19:])\n",
    "plt.imshow(im)"
   ]
  },
  {
   "cell_type": "code",
   "execution_count": null,
   "metadata": {
    "ExecuteTime": {
     "end_time": "2020-03-08T00:53:05.164830Z",
     "start_time": "2020-03-08T00:53:05.160969Z"
    }
   },
   "outputs": [],
   "source": [
    "base.shape"
   ]
  },
  {
   "cell_type": "code",
   "execution_count": null,
   "metadata": {
    "ExecuteTime": {
     "end_time": "2020-03-04T18:52:38.254705Z",
     "start_time": "2020-03-04T18:52:38.249611Z"
    }
   },
   "outputs": [],
   "source": [
    "kernels = getKernels((m,n), 4)"
   ]
  },
  {
   "cell_type": "code",
   "execution_count": null,
   "metadata": {
    "ExecuteTime": {
     "end_time": "2020-03-08T00:48:50.737221Z",
     "start_time": "2020-03-08T00:48:48.622748Z"
    }
   },
   "outputs": [],
   "source": [
    "z = cvx.Variable(m*n)\n",
    "px = cvx.Variable(3)\n",
    "py = cvx.Variable(3)\n",
    "\n",
    "objective = cvx.Minimize(np.ones(m*n).T @ z)\n",
    "constraints = [Ax @ C @ px + Ay @ C @ py - Iz @ z - b <=0, C @ px <= 40 * np.ones(m*n), C @ px >= -40 * np.ones(m*n), C @ py <= 40 * np.ones(m*n), C @ py >= -40 * np.ones(m*n)]\n",
    "# constraints = [Ax @ C2 @ px + Ay @ C2 @ py - Iz @ z - b <=0]\n",
    "\n",
    "prob = cvx.Problem(objective, constraints)\n",
    "\n",
    "result = prob.solve(solver=cvx.ECOS)"
   ]
  },
  {
   "cell_type": "code",
   "execution_count": null,
   "metadata": {
    "ExecuteTime": {
     "end_time": "2020-03-08T00:48:50.883629Z",
     "start_time": "2020-03-08T00:48:50.879470Z"
    }
   },
   "outputs": [],
   "source": [
    "px.value"
   ]
  },
  {
   "cell_type": "code",
   "execution_count": null,
   "metadata": {
    "ExecuteTime": {
     "end_time": "2020-03-08T00:48:04.641892Z",
     "start_time": "2020-03-08T00:48:04.637875Z"
    }
   },
   "outputs": [],
   "source": [
    "py.value"
   ]
  },
  {
   "cell_type": "code",
   "execution_count": null,
   "metadata": {
    "ExecuteTime": {
     "end_time": "2020-03-08T00:48:07.378013Z",
     "start_time": "2020-03-08T00:48:07.373871Z"
    }
   },
   "outputs": [],
   "source": [
    "p1"
   ]
  },
  {
   "cell_type": "code",
   "execution_count": null,
   "metadata": {
    "ExecuteTime": {
     "end_time": "2020-03-08T00:48:28.912364Z",
     "start_time": "2020-03-08T00:48:28.908321Z"
    }
   },
   "outputs": [],
   "source": [
    "p4"
   ]
  },
  {
   "cell_type": "code",
   "execution_count": null,
   "metadata": {},
   "outputs": [],
   "source": []
  },
  {
   "cell_type": "code",
   "execution_count": null,
   "metadata": {},
   "outputs": [],
   "source": []
  },
  {
   "cell_type": "code",
   "execution_count": null,
   "metadata": {},
   "outputs": [],
   "source": []
  },
  {
   "cell_type": "code",
   "execution_count": null,
   "metadata": {},
   "outputs": [],
   "source": []
  }
 ],
 "metadata": {
  "kernelspec": {
   "display_name": "Python 3",
   "language": "python",
   "name": "python3"
  },
  "language_info": {
   "codemirror_mode": {
    "name": "ipython",
    "version": 3
   },
   "file_extension": ".py",
   "mimetype": "text/x-python",
   "name": "python",
   "nbconvert_exporter": "python",
   "pygments_lexer": "ipython3",
   "version": "3.7.4"
  },
  "toc": {
   "base_numbering": 1,
   "nav_menu": {},
   "number_sections": true,
   "sideBar": true,
   "skip_h1_title": false,
   "title_cell": "Table of Contents",
   "title_sidebar": "Contents",
   "toc_cell": false,
   "toc_position": {},
   "toc_section_display": true,
   "toc_window_display": false
  }
 },
 "nbformat": 4,
 "nbformat_minor": 2
}
